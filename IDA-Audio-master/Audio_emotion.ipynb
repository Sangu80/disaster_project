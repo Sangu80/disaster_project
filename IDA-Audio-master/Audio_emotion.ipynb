{
  "nbformat": 4,
  "nbformat_minor": 0,
  "metadata": {
    "colab": {
      "name": "Audio emotion",
      "provenance": [],
      "collapsed_sections": [],
      "include_colab_link": true
    },
    "kernelspec": {
      "name": "python3",
      "display_name": "Python 3"
    },
    "accelerator": "GPU"
  },
  "cells": [
    {
      "cell_type": "markdown",
      "metadata": {
        "id": "view-in-github",
        "colab_type": "text"
      },
      "source": [
        "<a href=\"https://colab.research.google.com/github/anirudhr20/IDA-Audio/blob/master/Audio_emotion.ipynb\" target=\"_parent\"><img src=\"https://colab.research.google.com/assets/colab-badge.svg\" alt=\"Open In Colab\"/></a>"
      ]
    },
    {
      "cell_type": "code",
      "metadata": {
        "id": "GFjf-wwpWcRb",
        "colab_type": "code",
        "colab": {}
      },
      "source": [
        ""
      ],
      "execution_count": 0,
      "outputs": []
    },
    {
      "cell_type": "code",
      "metadata": {
        "id": "1ugsxDNkk6os",
        "colab_type": "code",
        "outputId": "87b7b172-8a5c-4b76-db14-9ac8af5a25eb",
        "colab": {
          "base_uri": "https://localhost:8080/",
          "height": 124
        }
      },
      "source": [
        "from google.colab import drive\n",
        "drive.mount('/content/drive')"
      ],
      "execution_count": 0,
      "outputs": [
        {
          "output_type": "stream",
          "text": [
            "Go to this URL in a browser: https://accounts.google.com/o/oauth2/auth?client_id=947318989803-6bn6qk8qdgf4n4g3pfee6491hc0brc4i.apps.googleusercontent.com&redirect_uri=urn%3aietf%3awg%3aoauth%3a2.0%3aoob&response_type=code&scope=email%20https%3a%2f%2fwww.googleapis.com%2fauth%2fdocs.test%20https%3a%2f%2fwww.googleapis.com%2fauth%2fdrive%20https%3a%2f%2fwww.googleapis.com%2fauth%2fdrive.photos.readonly%20https%3a%2f%2fwww.googleapis.com%2fauth%2fpeopleapi.readonly\n",
            "\n",
            "Enter your authorization code:\n",
            "··········\n",
            "Mounted at /content/drive\n"
          ],
          "name": "stdout"
        }
      ]
    },
    {
      "cell_type": "code",
      "metadata": {
        "id": "91vdRt3vXLZT",
        "colab_type": "code",
        "outputId": "ef1b933d-d724-48c5-d338-2c64334554ff",
        "colab": {
          "base_uri": "https://localhost:8080/",
          "height": 89
        }
      },
      "source": [
        "import glob  \n",
        "import os  \n",
        "import librosa  \n",
        "import numpy as np  \n",
        "from keras.models import Sequential  \n",
        "from keras.layers import Dense, Activation  \n",
        "from keras.layers import Dropout  \n",
        "from sklearn.model_selection import train_test_split  \n",
        "from sklearn.metrics import confusion_matrix\n",
        "import pandas as pd  \n",
        "import seaborn as sns  \n",
        "import matplotlib.pyplot as plt"
      ],
      "execution_count": 0,
      "outputs": [
        {
          "output_type": "stream",
          "text": [
            "Using TensorFlow backend.\n",
            "/usr/local/lib/python3.6/dist-packages/statsmodels/tools/_testing.py:19: FutureWarning: pandas.util.testing is deprecated. Use the functions in the public API at pandas.testing instead.\n",
            "  import pandas.util.testing as tm\n"
          ],
          "name": "stderr"
        }
      ]
    },
    {
      "cell_type": "code",
      "metadata": {
        "id": "drPAEgawXWyI",
        "colab_type": "code",
        "colab": {}
      },
      "source": [
        "def extract_feature(file_name): \n",
        "    X, sample_rate = librosa.load(file_name)\n",
        "    stft = np.abs(librosa.stft(X))\n",
        "    mfccs = np.mean(librosa.feature.mfcc(y=X, sr=sample_rate, n_mfcc=40).T,axis=0)\n",
        "    chroma = np.mean(librosa.feature.chroma_stft(S=stft, sr=sample_rate).T,axis=0)\n",
        "    mel = np.mean(librosa.feature.melspectrogram(X, sr=sample_rate).T,axis=0)\n",
        "    contrast = np.mean(librosa.feature.spectral_contrast(S=stft, sr=sample_rate).T,axis=0)\n",
        "    tonnetz = np.mean(librosa.feature.tonnetz(y=librosa.effects.harmonic(X),\n",
        "    sr=sample_rate).T,axis=0)\n",
        "    return mfccs,chroma,mel,contrast,tonnetz\n",
        "\n",
        "def parse_audio_files(parent_dir,sub_dirs,file_ext=\"*.wav\"):\n",
        "    features, labels = np.empty((0,193)), np.empty(0)\n",
        "    for label, sub_dir in enumerate(sub_dirs):\n",
        "        for fn in glob.glob(os.path.join(parent_dir, sub_dir, file_ext)):\n",
        "            try:\n",
        "              mfccs, chroma, mel, contrast,tonnetz = extract_feature(fn)\n",
        "            except Exception as e:\n",
        "              print (\"Error encountered while parsing file: \", fn)\n",
        "              continue\n",
        "            ext_features = np.hstack([mfccs,chroma,mel,contrast,tonnetz])\n",
        "            features = np.vstack([features,ext_features])\n",
        "            labels = np.append(labels, fn.split('/')[-1].split('-')[2])\n",
        "    return np.array(features), np.array(labels, dtype = np.int)"
      ],
      "execution_count": 0,
      "outputs": []
    },
    {
      "cell_type": "code",
      "metadata": {
        "id": "N304yLhmXnJa",
        "colab_type": "code",
        "colab": {}
      },
      "source": [
        "def one_hot_encode(labels):\n",
        "    n_labels = len(labels)\n",
        "    n_unique_labels = len(np.unique(labels))\n",
        "    one_hot_encode = np.zeros((n_labels,n_unique_labels+1))\n",
        "    one_hot_encode[np.arange(n_labels), labels] = 1\n",
        "    one_hot_encode=np.delete(one_hot_encode, 0, axis=1)\n",
        "    return one_hot_encode"
      ],
      "execution_count": 0,
      "outputs": []
    },
    {
      "cell_type": "code",
      "metadata": {
        "id": "F6qiMX6qcx-L",
        "colab_type": "code",
        "outputId": "b2933d9d-070b-4a1d-9b19-aa495495071d",
        "colab": {
          "base_uri": "https://localhost:8080/",
          "height": 54
        }
      },
      "source": [
        "main_dir = '/content/drive/My Drive/data/audio/'  \n",
        "sub_dir=  os.listdir(main_dir)\n",
        "print(sub_dir)\n",
        "# !ls {main_dir}"
      ],
      "execution_count": 0,
      "outputs": [
        {
          "output_type": "stream",
          "text": [
            "['Actor_16', 'Actor_17', 'Actor_18', 'Actor_20', 'Actor_21', 'Actor_19', 'Actor_22', 'Actor_24', 'Actor_15', 'Actor_23', 'Actor_10', 'Actor_08', 'Actor_05', 'Actor_14', 'Actor_09', 'Actor_07', 'Actor_13', 'Actor_06', 'Actor_11', 'Actor_12', 'Actor_03', 'Actor_02', 'Actor_04', 'Actor_01']\n"
          ],
          "name": "stdout"
        }
      ]
    },
    {
      "cell_type": "code",
      "metadata": {
        "id": "B-HwXZ6WPCnr",
        "colab_type": "code",
        "outputId": "abaae53d-b64f-402b-916a-25364a999040",
        "colab": {
          "base_uri": "https://localhost:8080/",
          "height": 33
        }
      },
      "source": [
        "fn = '/content/drive/My Drive/data/audio/Actor_19/03-01-02-01-01-02-19.wav'\n",
        "labels = np.empty(0)\n",
        "labels = np.append(labels,fn.split('/')[-1].split('-')[2])\n",
        "print(np.array(labels, dtype = np.int))"
      ],
      "execution_count": 0,
      "outputs": [
        {
          "output_type": "stream",
          "text": [
            "[2]\n"
          ],
          "name": "stdout"
        }
      ]
    },
    {
      "cell_type": "code",
      "metadata": {
        "id": "kF_F-ADPfw42",
        "colab_type": "code",
        "outputId": "1bea965d-5d85-46b3-dbc0-c6135f816833",
        "colab": {
          "base_uri": "https://localhost:8080/",
          "height": 881
        }
      },
      "source": [
        "features, labels = np.empty((0,193)), np.empty(0)\n",
        "fn = '/content/drive/My Drive/data/audio/Actor_19/03-01-01-01-01-02-19.wav'\n",
        "mfccs, chroma, mel, contrast,tonnetz = extract_feature(fn)\n",
        "ext_features = np.hstack([mfccs,chroma,mel,contrast,tonnetz])\n",
        "features = np.vstack([features,ext_features])\n",
        "labels = np.append(labels, fn)\n",
        "print(np.array(features))\n",
        "print(np.array(labels))"
      ],
      "execution_count": 0,
      "outputs": [
        {
          "output_type": "stream",
          "text": [
            "[[-7.15902974e+02  7.87028817e+01  1.17341330e+01  2.18769672e+01\n",
            "   8.05743561e+00  9.53279766e+00  5.23871226e-01 -5.84712778e+00\n",
            "  -9.31647301e+00  1.73579065e+00  1.83290767e+00 -1.07688674e+00\n",
            "   5.00578132e+00  3.36697535e+00 -1.90769556e+00  6.29388749e+00\n",
            "  -1.00657667e+00 -1.44449662e+00  3.75471266e+00  5.06371243e+00\n",
            "  -4.28182851e+00  2.23100645e-01 -2.74282888e+00 -1.42769328e+00\n",
            "  -9.86619554e-02  1.06042923e+00 -4.49956501e-01  2.59909242e+00\n",
            "   9.60827603e-01  2.18549894e+00  1.80641912e+00 -1.33969802e+00\n",
            "  -1.71409149e+00  2.49751533e+00  9.58830359e-02  2.58858129e+00\n",
            "  -1.57328926e+00 -3.34214114e-02 -8.80494184e-01  7.99018005e-01\n",
            "   6.51460727e-01  6.82427932e-01  6.97937100e-01  6.71504324e-01\n",
            "   6.01177987e-01  6.36365523e-01  6.58831587e-01  6.69353252e-01\n",
            "   7.42284964e-01  6.84035859e-01  6.35821538e-01  6.58507959e-01\n",
            "   1.87839691e-04  4.71929092e-05  5.46206720e-04  6.47555807e-03\n",
            "   1.14928358e-02  8.28012923e-03  4.98828816e-03  1.60718781e-02\n",
            "   2.02494786e-02  2.00428294e-02  7.09132284e-03  1.49928453e-02\n",
            "   1.41725473e-02  1.65678968e-02  1.12197702e-02  2.85580161e-02\n",
            "   3.33631591e-02  1.84777101e-02  1.74868941e-02  1.66719850e-02\n",
            "   3.85681080e-03  2.51840145e-03  5.64557400e-03  9.73530267e-03\n",
            "   1.89155088e-02  1.87621261e-03  1.63055473e-03  1.75780917e-03\n",
            "   3.89427632e-03  7.95558597e-03  4.91777985e-04  4.64931560e-04\n",
            "   4.18033481e-04  4.98444757e-04  8.21959158e-04  1.35095707e-04\n",
            "   3.59133686e-04  3.02315250e-04  4.79801535e-03  5.73770991e-03\n",
            "   7.09643841e-04  3.35139302e-04  8.59607812e-04  1.06961558e-02\n",
            "   5.05631247e-03  9.15117944e-04  2.54475267e-04  4.82838752e-04\n",
            "   1.35457750e-03  2.03963174e-04  4.08763809e-04  1.42149787e-03\n",
            "   2.57155991e-04  1.51771382e-04  3.28384303e-04  1.14948801e-04\n",
            "   6.69544870e-05  5.99788920e-05  2.51478066e-05  5.36844513e-05\n",
            "   3.45477901e-05  1.97664549e-05  1.68811234e-05  1.80386586e-05\n",
            "   2.88152557e-05  2.17155258e-05  2.20773634e-05  4.76443789e-05\n",
            "   8.03000516e-05  4.78137891e-05  3.96418925e-05  4.79680062e-05\n",
            "   1.83841102e-05  1.05492912e-05  8.26804446e-06  9.51484419e-06\n",
            "   1.13310328e-05  1.20122839e-05  1.94611245e-05  2.69400655e-05\n",
            "   3.87226662e-05  8.34647004e-05  7.22288945e-05  8.26139948e-05\n",
            "   7.21631718e-05  6.72171639e-05  4.65180948e-05  2.09100478e-05\n",
            "   1.33090722e-05  1.74901910e-05  1.74632450e-05  6.74009455e-06\n",
            "   1.05011070e-05  4.39890335e-05  3.18675988e-05  2.39495445e-05\n",
            "   3.50643492e-05  3.00866264e-05  1.39495737e-05  1.16822445e-05\n",
            "   1.65675473e-05  1.12043598e-05  1.07819189e-05  7.90734411e-06\n",
            "   4.41045238e-06  4.41122755e-06  4.33237111e-06  3.57532231e-06\n",
            "   3.95974054e-06  2.42466277e-06  2.79511543e-06  3.96608824e-06\n",
            "   3.27225131e-06  2.04959475e-06  1.92608482e-06  1.85105718e-06\n",
            "   1.82942591e-06  1.41523179e-06  1.09286011e-06  9.63452410e-07\n",
            "   1.62296131e-06  3.06236994e-06  2.56600104e-06  1.85830423e-06\n",
            "   1.92193756e-06  1.70444645e-06  4.71690190e-07  4.41479085e-08\n",
            "   2.09111116e+01  1.50010165e+01  1.74520794e+01  1.65877619e+01\n",
            "   1.62499153e+01  1.75562514e+01  2.92302627e+01 -1.19282568e-02\n",
            "   2.46815335e-02 -1.89132990e-02  2.16020138e-02 -7.65039584e-03\n",
            "   3.98683038e-03]]\n",
            "['/content/drive/My Drive/data/audio/Actor_19/03-01-01-01-01-02-19.wav']\n"
          ],
          "name": "stdout"
        }
      ]
    },
    {
      "cell_type": "code",
      "metadata": {
        "id": "9lm32w9EXqy_",
        "colab_type": "code",
        "outputId": "f3a813db-7dd4-493a-bc7b-9c29ed3410d2",
        "colab": {
          "base_uri": "https://localhost:8080/",
          "height": 104
        }
      },
      "source": [
        "main_dir = '/content/drive/My Drive/data/audio/'  \n",
        "sub_dir=os.listdir(main_dir)  \n",
        "print (\"\\ncollecting features and labels...\")  \n",
        "print(\"\\nthis will take some time...\")  \n",
        "features,labels = parse_audio_files(main_dir,sub_dir)  \n",
        "\n",
        "# print(labels) \n",
        "print(\"done\") \n",
        "\n",
        "np.save('/content/drive/My Drive/data/X.npy',features)  \n",
        "#one hot encoding labels  \n",
        "labels = one_hot_encode(labels)  \n",
        "\n",
        "np.save('/content/drive/My Drive/data/y.npy', labels)"
      ],
      "execution_count": 0,
      "outputs": [
        {
          "output_type": "stream",
          "text": [
            "\n",
            "collecting features and labels...\n",
            "\n",
            "this will take some time...\n",
            "done\n"
          ],
          "name": "stdout"
        }
      ]
    },
    {
      "cell_type": "code",
      "metadata": {
        "id": "VdxLskPecSkx",
        "colab_type": "code",
        "colab": {}
      },
      "source": [
        "X= features  \n",
        "y= labels\n",
        "train_x, test_x, train_y, test_y = train_test_split(X, y, test_size=0.20, random_state=42)"
      ],
      "execution_count": 0,
      "outputs": []
    },
    {
      "cell_type": "code",
      "metadata": {
        "id": "9cl66VRIiLo9",
        "colab_type": "code",
        "colab": {}
      },
      "source": [
        "n_dim = train_x.shape[1]  \n",
        "n_classes = train_y.shape[1]  \n",
        "n_hidden_units_1 = n_dim  \n",
        "n_hidden_units_2 = 400 # approx n_dim * 2  \n",
        "n_hidden_units_3 = 200 # half of layer 2  \n",
        "n_hidden_units_4 = 100"
      ],
      "execution_count": 0,
      "outputs": []
    },
    {
      "cell_type": "code",
      "metadata": {
        "id": "ozImpnyBWs0F",
        "colab_type": "code",
        "colab": {}
      },
      "source": [
        "def create_model(activation_function='relu', init_type='normal', optimiser='adam', dropout_rate=0.2):  \n",
        "   model = Sequential()  \n",
        "   # layer 1  \n",
        "   model.add(Dense(n_hidden_units_1, input_dim=n_dim, init=init_type, activation=activation_function))  \n",
        "   # layer 2  \n",
        "   model.add(Dense(n_hidden_units_2, init=init_type, activation=activation_function))  \n",
        "   model.add(Dropout(dropout_rate))  \n",
        "   # layer 3  \n",
        "   model.add(Dense(n_hidden_units_3, init=init_type, activation=activation_function))  \n",
        "   model.add(Dropout(dropout_rate))  \n",
        "   #layer4  \n",
        "   model.add(Dense(n_hidden_units_4, init=init_type, activation=activation_function))  \n",
        "   model.add(Dropout(dropout_rate))  \n",
        "   # output layer  \n",
        "   model.add(Dense(n_classes, init=init_type, activation='softmax'))  \n",
        "   #model compilation  \n",
        "   model.compile(loss='categorical_crossentropy', optimizer=optimiser, metrics=['accuracy'])  \n",
        "   return model"
      ],
      "execution_count": 0,
      "outputs": []
    },
    {
      "cell_type": "code",
      "metadata": {
        "id": "5J-EzstTWuEg",
        "colab_type": "code",
        "outputId": "ff1848f7-96fe-4e34-c939-d61030f2e065",
        "colab": {
          "base_uri": "https://localhost:8080/",
          "height": 1000
        }
      },
      "source": [
        " #create the model  \n",
        " model = create_model()  \n",
        " #train the model  \n",
        " history = model.fit(train_x, train_y, epochs=200, batch_size=4)"
      ],
      "execution_count": 0,
      "outputs": [
        {
          "output_type": "stream",
          "text": [
            "/usr/local/lib/python3.6/dist-packages/ipykernel_launcher.py:4: UserWarning: Update your `Dense` call to the Keras 2 API: `Dense(193, input_dim=193, activation=\"relu\", kernel_initializer=\"normal\")`\n",
            "  after removing the cwd from sys.path.\n",
            "/usr/local/lib/python3.6/dist-packages/ipykernel_launcher.py:6: UserWarning: Update your `Dense` call to the Keras 2 API: `Dense(400, activation=\"relu\", kernel_initializer=\"normal\")`\n",
            "  \n",
            "/usr/local/lib/python3.6/dist-packages/ipykernel_launcher.py:9: UserWarning: Update your `Dense` call to the Keras 2 API: `Dense(200, activation=\"relu\", kernel_initializer=\"normal\")`\n",
            "  if __name__ == '__main__':\n",
            "/usr/local/lib/python3.6/dist-packages/ipykernel_launcher.py:12: UserWarning: Update your `Dense` call to the Keras 2 API: `Dense(100, activation=\"relu\", kernel_initializer=\"normal\")`\n",
            "  if sys.path[0] == '':\n",
            "/usr/local/lib/python3.6/dist-packages/ipykernel_launcher.py:15: UserWarning: Update your `Dense` call to the Keras 2 API: `Dense(8, activation=\"softmax\", kernel_initializer=\"normal\")`\n",
            "  from ipykernel import kernelapp as app\n"
          ],
          "name": "stderr"
        },
        {
          "output_type": "stream",
          "text": [
            "Epoch 1/200\n",
            "1152/1152 [==============================] - 3s 2ms/step - loss: 2.1941 - accuracy: 0.1675\n",
            "Epoch 2/200\n",
            "1152/1152 [==============================] - 1s 934us/step - loss: 1.9139 - accuracy: 0.2274\n",
            "Epoch 3/200\n",
            "1152/1152 [==============================] - 1s 935us/step - loss: 1.8364 - accuracy: 0.2639\n",
            "Epoch 4/200\n",
            "1152/1152 [==============================] - 1s 937us/step - loss: 1.8007 - accuracy: 0.2865\n",
            "Epoch 5/200\n",
            "1152/1152 [==============================] - 1s 917us/step - loss: 1.7496 - accuracy: 0.3021\n",
            "Epoch 6/200\n",
            "1152/1152 [==============================] - 1s 921us/step - loss: 1.7309 - accuracy: 0.3212\n",
            "Epoch 7/200\n",
            "1152/1152 [==============================] - 1s 925us/step - loss: 1.6750 - accuracy: 0.3264\n",
            "Epoch 8/200\n",
            "1152/1152 [==============================] - 1s 920us/step - loss: 1.6431 - accuracy: 0.3663\n",
            "Epoch 9/200\n",
            "1152/1152 [==============================] - 1s 929us/step - loss: 1.6538 - accuracy: 0.3550\n",
            "Epoch 10/200\n",
            "1152/1152 [==============================] - 1s 938us/step - loss: 1.6067 - accuracy: 0.3759\n",
            "Epoch 11/200\n",
            "1152/1152 [==============================] - 1s 960us/step - loss: 1.5845 - accuracy: 0.3811\n",
            "Epoch 12/200\n",
            "1152/1152 [==============================] - 1s 947us/step - loss: 1.5663 - accuracy: 0.3915\n",
            "Epoch 13/200\n",
            "1152/1152 [==============================] - 1s 931us/step - loss: 1.5187 - accuracy: 0.4236\n",
            "Epoch 14/200\n",
            "1152/1152 [==============================] - 1s 937us/step - loss: 1.5138 - accuracy: 0.4080\n",
            "Epoch 15/200\n",
            "1152/1152 [==============================] - 1s 932us/step - loss: 1.4656 - accuracy: 0.4132\n",
            "Epoch 16/200\n",
            "1152/1152 [==============================] - 1s 921us/step - loss: 1.4223 - accuracy: 0.4505\n",
            "Epoch 17/200\n",
            "1152/1152 [==============================] - 1s 915us/step - loss: 1.4073 - accuracy: 0.4740\n",
            "Epoch 18/200\n",
            "1152/1152 [==============================] - 1s 921us/step - loss: 1.3972 - accuracy: 0.4696\n",
            "Epoch 19/200\n",
            "1152/1152 [==============================] - 1s 921us/step - loss: 1.4628 - accuracy: 0.4523\n",
            "Epoch 20/200\n",
            "1152/1152 [==============================] - 1s 914us/step - loss: 1.3871 - accuracy: 0.4783\n",
            "Epoch 21/200\n",
            "1152/1152 [==============================] - 1s 930us/step - loss: 1.3181 - accuracy: 0.5104\n",
            "Epoch 22/200\n",
            "1152/1152 [==============================] - 1s 932us/step - loss: 1.2971 - accuracy: 0.5165\n",
            "Epoch 23/200\n",
            "1152/1152 [==============================] - 1s 921us/step - loss: 1.3123 - accuracy: 0.5130\n",
            "Epoch 24/200\n",
            "1152/1152 [==============================] - 1s 928us/step - loss: 1.2454 - accuracy: 0.5200\n",
            "Epoch 25/200\n",
            "1152/1152 [==============================] - 1s 928us/step - loss: 1.2332 - accuracy: 0.5339\n",
            "Epoch 26/200\n",
            "1152/1152 [==============================] - 1s 923us/step - loss: 1.2576 - accuracy: 0.5408\n",
            "Epoch 27/200\n",
            "1152/1152 [==============================] - 1s 929us/step - loss: 1.1888 - accuracy: 0.5599\n",
            "Epoch 28/200\n",
            "1152/1152 [==============================] - 1s 933us/step - loss: 1.1968 - accuracy: 0.5538\n",
            "Epoch 29/200\n",
            "1152/1152 [==============================] - 1s 919us/step - loss: 1.1747 - accuracy: 0.5660\n",
            "Epoch 30/200\n",
            "1152/1152 [==============================] - 1s 925us/step - loss: 1.1446 - accuracy: 0.5755\n",
            "Epoch 31/200\n",
            "1152/1152 [==============================] - 1s 956us/step - loss: 1.1123 - accuracy: 0.5825\n",
            "Epoch 32/200\n",
            "1152/1152 [==============================] - 1s 930us/step - loss: 1.1613 - accuracy: 0.5764\n",
            "Epoch 33/200\n",
            "1152/1152 [==============================] - 1s 931us/step - loss: 1.0988 - accuracy: 0.5920\n",
            "Epoch 34/200\n",
            "1152/1152 [==============================] - 1s 935us/step - loss: 1.0433 - accuracy: 0.6163\n",
            "Epoch 35/200\n",
            "1152/1152 [==============================] - 1s 944us/step - loss: 1.0420 - accuracy: 0.6033\n",
            "Epoch 36/200\n",
            "1152/1152 [==============================] - 1s 934us/step - loss: 1.0487 - accuracy: 0.6102\n",
            "Epoch 37/200\n",
            "1152/1152 [==============================] - 1s 938us/step - loss: 1.0704 - accuracy: 0.6102\n",
            "Epoch 38/200\n",
            "1152/1152 [==============================] - 1s 941us/step - loss: 1.0222 - accuracy: 0.6198\n",
            "Epoch 39/200\n",
            "1152/1152 [==============================] - 1s 939us/step - loss: 1.0322 - accuracy: 0.6198\n",
            "Epoch 40/200\n",
            "1152/1152 [==============================] - 1s 937us/step - loss: 0.9879 - accuracy: 0.6189\n",
            "Epoch 41/200\n",
            "1152/1152 [==============================] - 1s 957us/step - loss: 0.9644 - accuracy: 0.6293\n",
            "Epoch 42/200\n",
            "1152/1152 [==============================] - 1s 986us/step - loss: 0.9419 - accuracy: 0.6528\n",
            "Epoch 43/200\n",
            "1152/1152 [==============================] - 1s 996us/step - loss: 0.9607 - accuracy: 0.6450\n",
            "Epoch 44/200\n",
            "1152/1152 [==============================] - 1s 1ms/step - loss: 0.8826 - accuracy: 0.6771\n",
            "Epoch 45/200\n",
            "1152/1152 [==============================] - 1s 989us/step - loss: 0.9512 - accuracy: 0.6545\n",
            "Epoch 46/200\n",
            "1152/1152 [==============================] - 1s 987us/step - loss: 0.9123 - accuracy: 0.6562\n",
            "Epoch 47/200\n",
            "1152/1152 [==============================] - 1s 998us/step - loss: 0.9122 - accuracy: 0.6745\n",
            "Epoch 48/200\n",
            "1152/1152 [==============================] - 1s 999us/step - loss: 0.8385 - accuracy: 0.6892\n",
            "Epoch 49/200\n",
            "1152/1152 [==============================] - 1s 1ms/step - loss: 1.0761 - accuracy: 0.6493\n",
            "Epoch 50/200\n",
            "1152/1152 [==============================] - 1s 993us/step - loss: 0.8200 - accuracy: 0.6962\n",
            "Epoch 51/200\n",
            "1152/1152 [==============================] - 1s 929us/step - loss: 0.8205 - accuracy: 0.7049\n",
            "Epoch 52/200\n",
            "1152/1152 [==============================] - 1s 922us/step - loss: 0.7978 - accuracy: 0.7066\n",
            "Epoch 53/200\n",
            "1152/1152 [==============================] - 1s 923us/step - loss: 0.8412 - accuracy: 0.6840\n",
            "Epoch 54/200\n",
            "1152/1152 [==============================] - 1s 925us/step - loss: 0.8431 - accuracy: 0.6962\n",
            "Epoch 55/200\n",
            "1152/1152 [==============================] - 1s 915us/step - loss: 0.7972 - accuracy: 0.7083\n",
            "Epoch 56/200\n",
            "1152/1152 [==============================] - 1s 908us/step - loss: 0.7721 - accuracy: 0.7292\n",
            "Epoch 57/200\n",
            "1152/1152 [==============================] - 1s 916us/step - loss: 0.7727 - accuracy: 0.7240\n",
            "Epoch 58/200\n",
            "1152/1152 [==============================] - 1s 913us/step - loss: 0.6955 - accuracy: 0.7370\n",
            "Epoch 59/200\n",
            "1152/1152 [==============================] - 1s 938us/step - loss: 0.7538 - accuracy: 0.7092\n",
            "Epoch 60/200\n",
            "1152/1152 [==============================] - 1s 924us/step - loss: 0.7446 - accuracy: 0.7396\n",
            "Epoch 61/200\n",
            "1152/1152 [==============================] - 1s 912us/step - loss: 0.7816 - accuracy: 0.7188\n",
            "Epoch 62/200\n",
            "1152/1152 [==============================] - 1s 924us/step - loss: 0.6775 - accuracy: 0.7457\n",
            "Epoch 63/200\n",
            "1152/1152 [==============================] - 1s 936us/step - loss: 0.6802 - accuracy: 0.7413\n",
            "Epoch 64/200\n",
            "1152/1152 [==============================] - 1s 922us/step - loss: 0.6713 - accuracy: 0.7509\n",
            "Epoch 65/200\n",
            "1152/1152 [==============================] - 1s 932us/step - loss: 0.6508 - accuracy: 0.7517\n",
            "Epoch 66/200\n",
            "1152/1152 [==============================] - 1s 925us/step - loss: 0.7886 - accuracy: 0.7240\n",
            "Epoch 67/200\n",
            "1152/1152 [==============================] - 1s 926us/step - loss: 0.6840 - accuracy: 0.7491\n",
            "Epoch 68/200\n",
            "1152/1152 [==============================] - 1s 920us/step - loss: 0.6150 - accuracy: 0.7786\n",
            "Epoch 69/200\n",
            "1152/1152 [==============================] - 1s 939us/step - loss: 0.5886 - accuracy: 0.7804\n",
            "Epoch 70/200\n",
            "1152/1152 [==============================] - 1s 931us/step - loss: 0.7391 - accuracy: 0.7283\n",
            "Epoch 71/200\n",
            "1152/1152 [==============================] - 1s 922us/step - loss: 0.6246 - accuracy: 0.7752\n",
            "Epoch 72/200\n",
            "1152/1152 [==============================] - 1s 918us/step - loss: 0.6632 - accuracy: 0.7595\n",
            "Epoch 73/200\n",
            "1152/1152 [==============================] - 1s 915us/step - loss: 0.5839 - accuracy: 0.7856\n",
            "Epoch 74/200\n",
            "1152/1152 [==============================] - 1s 926us/step - loss: 0.5822 - accuracy: 0.7812\n",
            "Epoch 75/200\n",
            "1152/1152 [==============================] - 1s 924us/step - loss: 0.6908 - accuracy: 0.7622\n",
            "Epoch 76/200\n",
            "1152/1152 [==============================] - 1s 932us/step - loss: 0.6074 - accuracy: 0.7717\n",
            "Epoch 77/200\n",
            "1152/1152 [==============================] - 1s 941us/step - loss: 0.5785 - accuracy: 0.7891\n",
            "Epoch 78/200\n",
            "1152/1152 [==============================] - 1s 931us/step - loss: 0.5664 - accuracy: 0.7917\n",
            "Epoch 79/200\n",
            "1152/1152 [==============================] - 1s 928us/step - loss: 0.8005 - accuracy: 0.7292\n",
            "Epoch 80/200\n",
            "1152/1152 [==============================] - 1s 941us/step - loss: 0.5690 - accuracy: 0.8038\n",
            "Epoch 81/200\n",
            "1152/1152 [==============================] - 1s 919us/step - loss: 0.4636 - accuracy: 0.8325\n",
            "Epoch 82/200\n",
            "1152/1152 [==============================] - 1s 918us/step - loss: 0.5046 - accuracy: 0.8229\n",
            "Epoch 83/200\n",
            "1152/1152 [==============================] - 1s 935us/step - loss: 0.5466 - accuracy: 0.8116\n",
            "Epoch 84/200\n",
            "1152/1152 [==============================] - 1s 922us/step - loss: 0.5001 - accuracy: 0.8160\n",
            "Epoch 85/200\n",
            "1152/1152 [==============================] - 1s 927us/step - loss: 0.5965 - accuracy: 0.7960\n",
            "Epoch 86/200\n",
            "1152/1152 [==============================] - 1s 911us/step - loss: 0.5037 - accuracy: 0.8168\n",
            "Epoch 87/200\n",
            "1152/1152 [==============================] - 1s 938us/step - loss: 0.7327 - accuracy: 0.7778\n",
            "Epoch 88/200\n",
            "1152/1152 [==============================] - 1s 937us/step - loss: 0.5530 - accuracy: 0.7925\n",
            "Epoch 89/200\n",
            "1152/1152 [==============================] - 1s 920us/step - loss: 0.4741 - accuracy: 0.8264\n",
            "Epoch 90/200\n",
            "1152/1152 [==============================] - 1s 948us/step - loss: 0.4807 - accuracy: 0.8186\n",
            "Epoch 91/200\n",
            "1152/1152 [==============================] - 1s 916us/step - loss: 0.3842 - accuracy: 0.8689\n",
            "Epoch 92/200\n",
            "1152/1152 [==============================] - 1s 933us/step - loss: 0.5532 - accuracy: 0.8220\n",
            "Epoch 93/200\n",
            "1152/1152 [==============================] - 1s 926us/step - loss: 0.4848 - accuracy: 0.8220\n",
            "Epoch 94/200\n",
            "1152/1152 [==============================] - 1s 930us/step - loss: 0.5335 - accuracy: 0.8142\n",
            "Epoch 95/200\n",
            "1152/1152 [==============================] - 1s 916us/step - loss: 0.5386 - accuracy: 0.8194\n",
            "Epoch 96/200\n",
            "1152/1152 [==============================] - 1s 926us/step - loss: 0.4351 - accuracy: 0.8464\n",
            "Epoch 97/200\n",
            "1152/1152 [==============================] - 1s 931us/step - loss: 0.4212 - accuracy: 0.8507\n",
            "Epoch 98/200\n",
            "1152/1152 [==============================] - 1s 922us/step - loss: 0.6053 - accuracy: 0.8030\n",
            "Epoch 99/200\n",
            "1152/1152 [==============================] - 1s 924us/step - loss: 0.4767 - accuracy: 0.8194\n",
            "Epoch 100/200\n",
            "1152/1152 [==============================] - 1s 946us/step - loss: 0.4892 - accuracy: 0.8273\n",
            "Epoch 101/200\n",
            "1152/1152 [==============================] - 1s 908us/step - loss: 0.3962 - accuracy: 0.8602\n",
            "Epoch 102/200\n",
            "1152/1152 [==============================] - 1s 916us/step - loss: 0.4734 - accuracy: 0.8333\n",
            "Epoch 103/200\n",
            "1152/1152 [==============================] - 1s 920us/step - loss: 0.5272 - accuracy: 0.8194\n",
            "Epoch 104/200\n",
            " 576/1152 [==============>...............] - ETA: 0s - loss: 0.5000 - accuracy: 0.8403"
          ],
          "name": "stdout"
        },
        {
          "output_type": "error",
          "ename": "KeyboardInterrupt",
          "evalue": "ignored",
          "traceback": [
            "\u001b[0;31m---------------------------------------------------------------------------\u001b[0m",
            "\u001b[0;31mKeyboardInterrupt\u001b[0m                         Traceback (most recent call last)",
            "\u001b[0;32m<ipython-input-11-70048f79c5fb>\u001b[0m in \u001b[0;36m<module>\u001b[0;34m()\u001b[0m\n\u001b[1;32m      1\u001b[0m \u001b[0mmodel\u001b[0m \u001b[0;34m=\u001b[0m \u001b[0mcreate_model\u001b[0m\u001b[0;34m(\u001b[0m\u001b[0;34m)\u001b[0m\u001b[0;34m\u001b[0m\u001b[0;34m\u001b[0m\u001b[0m\n\u001b[1;32m      2\u001b[0m \u001b[0;31m#train the model\u001b[0m\u001b[0;34m\u001b[0m\u001b[0;34m\u001b[0m\u001b[0;34m\u001b[0m\u001b[0m\n\u001b[0;32m----> 3\u001b[0;31m \u001b[0mhistory\u001b[0m \u001b[0;34m=\u001b[0m \u001b[0mmodel\u001b[0m\u001b[0;34m.\u001b[0m\u001b[0mfit\u001b[0m\u001b[0;34m(\u001b[0m\u001b[0mtrain_x\u001b[0m\u001b[0;34m,\u001b[0m \u001b[0mtrain_y\u001b[0m\u001b[0;34m,\u001b[0m \u001b[0mepochs\u001b[0m\u001b[0;34m=\u001b[0m\u001b[0;36m200\u001b[0m\u001b[0;34m,\u001b[0m \u001b[0mbatch_size\u001b[0m\u001b[0;34m=\u001b[0m\u001b[0;36m4\u001b[0m\u001b[0;34m)\u001b[0m\u001b[0;34m\u001b[0m\u001b[0;34m\u001b[0m\u001b[0m\n\u001b[0m",
            "\u001b[0;32m/usr/local/lib/python3.6/dist-packages/keras/engine/training.py\u001b[0m in \u001b[0;36mfit\u001b[0;34m(self, x, y, batch_size, epochs, verbose, callbacks, validation_split, validation_data, shuffle, class_weight, sample_weight, initial_epoch, steps_per_epoch, validation_steps, validation_freq, max_queue_size, workers, use_multiprocessing, **kwargs)\u001b[0m\n\u001b[1;32m   1237\u001b[0m                                         \u001b[0msteps_per_epoch\u001b[0m\u001b[0;34m=\u001b[0m\u001b[0msteps_per_epoch\u001b[0m\u001b[0;34m,\u001b[0m\u001b[0;34m\u001b[0m\u001b[0;34m\u001b[0m\u001b[0m\n\u001b[1;32m   1238\u001b[0m                                         \u001b[0mvalidation_steps\u001b[0m\u001b[0;34m=\u001b[0m\u001b[0mvalidation_steps\u001b[0m\u001b[0;34m,\u001b[0m\u001b[0;34m\u001b[0m\u001b[0;34m\u001b[0m\u001b[0m\n\u001b[0;32m-> 1239\u001b[0;31m                                         validation_freq=validation_freq)\n\u001b[0m\u001b[1;32m   1240\u001b[0m \u001b[0;34m\u001b[0m\u001b[0m\n\u001b[1;32m   1241\u001b[0m     def evaluate(self,\n",
            "\u001b[0;32m/usr/local/lib/python3.6/dist-packages/keras/engine/training_arrays.py\u001b[0m in \u001b[0;36mfit_loop\u001b[0;34m(model, fit_function, fit_inputs, out_labels, batch_size, epochs, verbose, callbacks, val_function, val_inputs, shuffle, initial_epoch, steps_per_epoch, validation_steps, validation_freq)\u001b[0m\n\u001b[1;32m    194\u001b[0m                     \u001b[0mins_batch\u001b[0m\u001b[0;34m[\u001b[0m\u001b[0mi\u001b[0m\u001b[0;34m]\u001b[0m \u001b[0;34m=\u001b[0m \u001b[0mins_batch\u001b[0m\u001b[0;34m[\u001b[0m\u001b[0mi\u001b[0m\u001b[0;34m]\u001b[0m\u001b[0;34m.\u001b[0m\u001b[0mtoarray\u001b[0m\u001b[0;34m(\u001b[0m\u001b[0;34m)\u001b[0m\u001b[0;34m\u001b[0m\u001b[0;34m\u001b[0m\u001b[0m\n\u001b[1;32m    195\u001b[0m \u001b[0;34m\u001b[0m\u001b[0m\n\u001b[0;32m--> 196\u001b[0;31m                 \u001b[0mouts\u001b[0m \u001b[0;34m=\u001b[0m \u001b[0mfit_function\u001b[0m\u001b[0;34m(\u001b[0m\u001b[0mins_batch\u001b[0m\u001b[0;34m)\u001b[0m\u001b[0;34m\u001b[0m\u001b[0;34m\u001b[0m\u001b[0m\n\u001b[0m\u001b[1;32m    197\u001b[0m                 \u001b[0mouts\u001b[0m \u001b[0;34m=\u001b[0m \u001b[0mto_list\u001b[0m\u001b[0;34m(\u001b[0m\u001b[0mouts\u001b[0m\u001b[0;34m)\u001b[0m\u001b[0;34m\u001b[0m\u001b[0;34m\u001b[0m\u001b[0m\n\u001b[1;32m    198\u001b[0m                 \u001b[0;32mfor\u001b[0m \u001b[0ml\u001b[0m\u001b[0;34m,\u001b[0m \u001b[0mo\u001b[0m \u001b[0;32min\u001b[0m \u001b[0mzip\u001b[0m\u001b[0;34m(\u001b[0m\u001b[0mout_labels\u001b[0m\u001b[0;34m,\u001b[0m \u001b[0mouts\u001b[0m\u001b[0;34m)\u001b[0m\u001b[0;34m:\u001b[0m\u001b[0;34m\u001b[0m\u001b[0;34m\u001b[0m\u001b[0m\n",
            "\u001b[0;32m/usr/local/lib/python3.6/dist-packages/tensorflow/python/keras/backend.py\u001b[0m in \u001b[0;36m__call__\u001b[0;34m(self, inputs)\u001b[0m\n\u001b[1;32m   3790\u001b[0m         \u001b[0mvalue\u001b[0m \u001b[0;34m=\u001b[0m \u001b[0mmath_ops\u001b[0m\u001b[0;34m.\u001b[0m\u001b[0mcast\u001b[0m\u001b[0;34m(\u001b[0m\u001b[0mvalue\u001b[0m\u001b[0;34m,\u001b[0m \u001b[0mtensor\u001b[0m\u001b[0;34m.\u001b[0m\u001b[0mdtype\u001b[0m\u001b[0;34m)\u001b[0m\u001b[0;34m\u001b[0m\u001b[0;34m\u001b[0m\u001b[0m\n\u001b[1;32m   3791\u001b[0m       \u001b[0mconverted_inputs\u001b[0m\u001b[0;34m.\u001b[0m\u001b[0mappend\u001b[0m\u001b[0;34m(\u001b[0m\u001b[0mvalue\u001b[0m\u001b[0;34m)\u001b[0m\u001b[0;34m\u001b[0m\u001b[0;34m\u001b[0m\u001b[0m\n\u001b[0;32m-> 3792\u001b[0;31m     \u001b[0moutputs\u001b[0m \u001b[0;34m=\u001b[0m \u001b[0mself\u001b[0m\u001b[0;34m.\u001b[0m\u001b[0m_graph_fn\u001b[0m\u001b[0;34m(\u001b[0m\u001b[0;34m*\u001b[0m\u001b[0mconverted_inputs\u001b[0m\u001b[0;34m)\u001b[0m\u001b[0;34m\u001b[0m\u001b[0;34m\u001b[0m\u001b[0m\n\u001b[0m\u001b[1;32m   3793\u001b[0m \u001b[0;34m\u001b[0m\u001b[0m\n\u001b[1;32m   3794\u001b[0m     \u001b[0;31m# EagerTensor.numpy() will often make a copy to ensure memory safety.\u001b[0m\u001b[0;34m\u001b[0m\u001b[0;34m\u001b[0m\u001b[0;34m\u001b[0m\u001b[0m\n",
            "\u001b[0;32m/usr/local/lib/python3.6/dist-packages/tensorflow/python/eager/function.py\u001b[0m in \u001b[0;36m__call__\u001b[0;34m(self, *args, **kwargs)\u001b[0m\n\u001b[1;32m   1603\u001b[0m       \u001b[0mTypeError\u001b[0m\u001b[0;34m:\u001b[0m \u001b[0mFor\u001b[0m \u001b[0minvalid\u001b[0m \u001b[0mpositional\u001b[0m\u001b[0;34m/\u001b[0m\u001b[0mkeyword\u001b[0m \u001b[0margument\u001b[0m \u001b[0mcombinations\u001b[0m\u001b[0;34m.\u001b[0m\u001b[0;34m\u001b[0m\u001b[0;34m\u001b[0m\u001b[0m\n\u001b[1;32m   1604\u001b[0m     \"\"\"\n\u001b[0;32m-> 1605\u001b[0;31m     \u001b[0;32mreturn\u001b[0m \u001b[0mself\u001b[0m\u001b[0;34m.\u001b[0m\u001b[0m_call_impl\u001b[0m\u001b[0;34m(\u001b[0m\u001b[0margs\u001b[0m\u001b[0;34m,\u001b[0m \u001b[0mkwargs\u001b[0m\u001b[0;34m)\u001b[0m\u001b[0;34m\u001b[0m\u001b[0;34m\u001b[0m\u001b[0m\n\u001b[0m\u001b[1;32m   1606\u001b[0m \u001b[0;34m\u001b[0m\u001b[0m\n\u001b[1;32m   1607\u001b[0m   \u001b[0;32mdef\u001b[0m \u001b[0m_call_impl\u001b[0m\u001b[0;34m(\u001b[0m\u001b[0mself\u001b[0m\u001b[0;34m,\u001b[0m \u001b[0margs\u001b[0m\u001b[0;34m,\u001b[0m \u001b[0mkwargs\u001b[0m\u001b[0;34m,\u001b[0m \u001b[0mcancellation_manager\u001b[0m\u001b[0;34m=\u001b[0m\u001b[0;32mNone\u001b[0m\u001b[0;34m)\u001b[0m\u001b[0;34m:\u001b[0m\u001b[0;34m\u001b[0m\u001b[0;34m\u001b[0m\u001b[0m\n",
            "\u001b[0;32m/usr/local/lib/python3.6/dist-packages/tensorflow/python/eager/function.py\u001b[0m in \u001b[0;36m_call_impl\u001b[0;34m(self, args, kwargs, cancellation_manager)\u001b[0m\n\u001b[1;32m   1643\u001b[0m       raise TypeError(\"Keyword arguments {} unknown. Expected {}.\".format(\n\u001b[1;32m   1644\u001b[0m           list(kwargs.keys()), list(self._arg_keywords)))\n\u001b[0;32m-> 1645\u001b[0;31m     \u001b[0;32mreturn\u001b[0m \u001b[0mself\u001b[0m\u001b[0;34m.\u001b[0m\u001b[0m_call_flat\u001b[0m\u001b[0;34m(\u001b[0m\u001b[0margs\u001b[0m\u001b[0;34m,\u001b[0m \u001b[0mself\u001b[0m\u001b[0;34m.\u001b[0m\u001b[0mcaptured_inputs\u001b[0m\u001b[0;34m,\u001b[0m \u001b[0mcancellation_manager\u001b[0m\u001b[0;34m)\u001b[0m\u001b[0;34m\u001b[0m\u001b[0;34m\u001b[0m\u001b[0m\n\u001b[0m\u001b[1;32m   1646\u001b[0m \u001b[0;34m\u001b[0m\u001b[0m\n\u001b[1;32m   1647\u001b[0m   \u001b[0;32mdef\u001b[0m \u001b[0m_filtered_call\u001b[0m\u001b[0;34m(\u001b[0m\u001b[0mself\u001b[0m\u001b[0;34m,\u001b[0m \u001b[0margs\u001b[0m\u001b[0;34m,\u001b[0m \u001b[0mkwargs\u001b[0m\u001b[0;34m)\u001b[0m\u001b[0;34m:\u001b[0m\u001b[0;34m\u001b[0m\u001b[0;34m\u001b[0m\u001b[0m\n",
            "\u001b[0;32m/usr/local/lib/python3.6/dist-packages/tensorflow/python/eager/function.py\u001b[0m in \u001b[0;36m_call_flat\u001b[0;34m(self, args, captured_inputs, cancellation_manager)\u001b[0m\n\u001b[1;32m   1744\u001b[0m       \u001b[0;31m# No tape is watching; skip to running the function.\u001b[0m\u001b[0;34m\u001b[0m\u001b[0;34m\u001b[0m\u001b[0;34m\u001b[0m\u001b[0m\n\u001b[1;32m   1745\u001b[0m       return self._build_call_outputs(self._inference_function.call(\n\u001b[0;32m-> 1746\u001b[0;31m           ctx, args, cancellation_manager=cancellation_manager))\n\u001b[0m\u001b[1;32m   1747\u001b[0m     forward_backward = self._select_forward_and_backward_functions(\n\u001b[1;32m   1748\u001b[0m         \u001b[0margs\u001b[0m\u001b[0;34m,\u001b[0m\u001b[0;34m\u001b[0m\u001b[0;34m\u001b[0m\u001b[0m\n",
            "\u001b[0;32m/usr/local/lib/python3.6/dist-packages/tensorflow/python/eager/function.py\u001b[0m in \u001b[0;36mcall\u001b[0;34m(self, ctx, args, cancellation_manager)\u001b[0m\n\u001b[1;32m    596\u001b[0m               \u001b[0minputs\u001b[0m\u001b[0;34m=\u001b[0m\u001b[0margs\u001b[0m\u001b[0;34m,\u001b[0m\u001b[0;34m\u001b[0m\u001b[0;34m\u001b[0m\u001b[0m\n\u001b[1;32m    597\u001b[0m               \u001b[0mattrs\u001b[0m\u001b[0;34m=\u001b[0m\u001b[0mattrs\u001b[0m\u001b[0;34m,\u001b[0m\u001b[0;34m\u001b[0m\u001b[0;34m\u001b[0m\u001b[0m\n\u001b[0;32m--> 598\u001b[0;31m               ctx=ctx)\n\u001b[0m\u001b[1;32m    599\u001b[0m         \u001b[0;32melse\u001b[0m\u001b[0;34m:\u001b[0m\u001b[0;34m\u001b[0m\u001b[0;34m\u001b[0m\u001b[0m\n\u001b[1;32m    600\u001b[0m           outputs = execute.execute_with_cancellation(\n",
            "\u001b[0;32m/usr/local/lib/python3.6/dist-packages/tensorflow/python/eager/execute.py\u001b[0m in \u001b[0;36mquick_execute\u001b[0;34m(op_name, num_outputs, inputs, attrs, ctx, name)\u001b[0m\n\u001b[1;32m     58\u001b[0m     \u001b[0mctx\u001b[0m\u001b[0;34m.\u001b[0m\u001b[0mensure_initialized\u001b[0m\u001b[0;34m(\u001b[0m\u001b[0;34m)\u001b[0m\u001b[0;34m\u001b[0m\u001b[0;34m\u001b[0m\u001b[0m\n\u001b[1;32m     59\u001b[0m     tensors = pywrap_tfe.TFE_Py_Execute(ctx._handle, device_name, op_name,\n\u001b[0;32m---> 60\u001b[0;31m                                         inputs, attrs, num_outputs)\n\u001b[0m\u001b[1;32m     61\u001b[0m   \u001b[0;32mexcept\u001b[0m \u001b[0mcore\u001b[0m\u001b[0;34m.\u001b[0m\u001b[0m_NotOkStatusException\u001b[0m \u001b[0;32mas\u001b[0m \u001b[0me\u001b[0m\u001b[0;34m:\u001b[0m\u001b[0;34m\u001b[0m\u001b[0;34m\u001b[0m\u001b[0m\n\u001b[1;32m     62\u001b[0m     \u001b[0;32mif\u001b[0m \u001b[0mname\u001b[0m \u001b[0;32mis\u001b[0m \u001b[0;32mnot\u001b[0m \u001b[0;32mNone\u001b[0m\u001b[0;34m:\u001b[0m\u001b[0;34m\u001b[0m\u001b[0;34m\u001b[0m\u001b[0m\n",
            "\u001b[0;31mKeyboardInterrupt\u001b[0m: "
          ]
        }
      ]
    },
    {
      "cell_type": "code",
      "metadata": {
        "id": "cq8DX8_oSVCf",
        "colab_type": "code",
        "colab": {}
      },
      "source": [
        ""
      ],
      "execution_count": 0,
      "outputs": []
    },
    {
      "cell_type": "code",
      "metadata": {
        "id": "keXpX-qDWxvQ",
        "colab_type": "code",
        "colab": {}
      },
      "source": [
        "#predicting from the model  \n",
        " predict=model.predict(test_x,batch_size=4)"
      ],
      "execution_count": 0,
      "outputs": []
    },
    {
      "cell_type": "code",
      "metadata": {
        "id": "LsWi22l5YBG3",
        "colab_type": "code",
        "colab": {}
      },
      "source": [
        " emotions=['neutral', 'calm', 'happy', 'sad', 'angry', 'fearful', 'disgust', 'surprised']  \n",
        " #predicted emotions from the test set  \n",
        " y_pred = np.argmax(predict, 1)  \n",
        " predicted_emo=[]   \n",
        " for i in range(0,test_y.shape[0]):  \n",
        "   emo=emotions[y_pred[i]]  \n",
        "   predicted_emo.append(emo)"
      ],
      "execution_count": 0,
      "outputs": []
    },
    {
      "cell_type": "code",
      "metadata": {
        "id": "Iy08oDcTtCir",
        "colab_type": "code",
        "outputId": "6f7f1198-002e-4e9e-be6a-4fc7c59960c8",
        "colab": {
          "base_uri": "https://localhost:8080/",
          "height": 54
        }
      },
      "source": [
        "print(predicted_emo)"
      ],
      "execution_count": 0,
      "outputs": [
        {
          "output_type": "stream",
          "text": [
            "['disgust', 'fearful', 'calm', 'calm', 'angry', 'calm', 'happy', 'surprised', 'disgust', 'neutral', 'disgust', 'surprised', 'calm', 'fearful', 'disgust', 'disgust', 'fearful', 'disgust', 'calm', 'angry', 'happy', 'calm', 'calm', 'sad', 'disgust', 'sad', 'surprised', 'surprised', 'surprised', 'sad', 'surprised', 'angry', 'happy', 'happy', 'surprised', 'neutral', 'surprised', 'happy', 'happy', 'angry', 'surprised', 'calm', 'sad', 'fearful', 'disgust', 'calm', 'calm', 'sad', 'happy', 'calm', 'surprised', 'surprised', 'happy', 'angry', 'neutral', 'calm', 'sad', 'disgust', 'happy', 'calm', 'sad', 'fearful', 'disgust', 'surprised', 'happy', 'sad', 'calm', 'calm', 'disgust', 'sad', 'happy', 'disgust', 'calm', 'angry', 'surprised', 'calm', 'happy', 'disgust', 'sad', 'disgust', 'sad', 'happy', 'happy', 'calm', 'surprised', 'angry', 'fearful', 'calm', 'happy', 'surprised', 'calm', 'sad', 'sad', 'angry', 'disgust', 'disgust', 'disgust', 'happy', 'happy', 'neutral', 'disgust', 'fearful', 'surprised', 'happy', 'happy', 'surprised', 'happy', 'disgust', 'fearful', 'calm', 'happy', 'disgust', 'disgust', 'calm', 'angry', 'angry', 'happy', 'happy', 'surprised', 'disgust', 'surprised', 'calm', 'surprised', 'fearful', 'calm', 'angry', 'surprised', 'surprised', 'surprised', 'fearful', 'sad', 'happy', 'happy', 'disgust', 'sad', 'sad', 'calm', 'calm', 'disgust', 'fearful', 'angry', 'angry', 'sad', 'angry', 'angry', 'fearful', 'angry', 'calm', 'surprised', 'fearful', 'fearful', 'happy', 'surprised', 'sad', 'happy', 'calm', 'fearful', 'sad', 'surprised', 'fearful', 'sad', 'angry', 'surprised', 'sad', 'happy', 'calm', 'angry', 'calm', 'sad', 'surprised', 'calm', 'fearful', 'disgust', 'disgust', 'sad', 'calm', 'angry', 'surprised', 'sad', 'sad', 'calm', 'fearful', 'disgust', 'fearful', 'calm', 'calm', 'disgust', 'disgust', 'disgust', 'happy', 'angry', 'fearful', 'fearful', 'calm', 'happy', 'fearful', 'disgust', 'surprised', 'disgust', 'neutral', 'disgust', 'happy', 'surprised', 'happy', 'calm', 'sad', 'disgust', 'sad', 'happy', 'surprised', 'fearful', 'sad', 'disgust', 'disgust', 'neutral', 'happy', 'calm', 'angry', 'sad', 'disgust', 'sad', 'sad', 'disgust', 'calm', 'angry', 'surprised', 'disgust', 'neutral', 'sad', 'calm', 'sad', 'surprised', 'fearful', 'surprised', 'surprised', 'angry', 'angry', 'surprised', 'fearful', 'neutral', 'happy', 'calm', 'happy', 'calm', 'sad', 'surprised', 'neutral', 'calm', 'sad', 'sad', 'angry', 'sad', 'disgust', 'calm', 'disgust', 'surprised', 'fearful', 'surprised', 'neutral', 'fearful', 'surprised', 'calm', 'calm', 'happy', 'angry', 'calm', 'disgust', 'surprised', 'surprised', 'calm', 'surprised', 'sad', 'angry', 'surprised', 'disgust', 'disgust', 'happy', 'happy', 'angry', 'calm', 'angry', 'happy', 'neutral', 'disgust', 'sad', 'fearful', 'surprised', 'surprised']\n"
          ],
          "name": "stdout"
        }
      ]
    },
    {
      "cell_type": "code",
      "metadata": {
        "id": "FP2L-BVacyLX",
        "colab_type": "code",
        "outputId": "424bb826-0e47-4656-fd80-a3b76c6a5e55",
        "colab": {
          "base_uri": "https://localhost:8080/",
          "height": 34
        }
      },
      "source": [
        "fe, labels = np.empty((0,193)), np.empty(0)\n",
        "fn = '/content/drive/My Drive/data/audio/Actor_19/03-01-08-02-01-02-19.wav'\n",
        "mfccs, chroma, mel, contrast,tonnetz = extract_feature(fn)\n",
        "ext_features = np.hstack([mfccs,chroma,mel,contrast,tonnetz])\n",
        "fe = np.vstack([fe,ext_features])\n",
        "\n",
        "p = model.predict_proba(fe)\n",
        "# print(p)\n",
        "indexssad = np.argmax(p[0])\n",
        "em = emotions[indexssad]\n",
        "print(em)"
      ],
      "execution_count": 0,
      "outputs": [
        {
          "output_type": "stream",
          "text": [
            "happy\n"
          ],
          "name": "stdout"
        }
      ]
    },
    {
      "cell_type": "code",
      "metadata": {
        "id": "uUpd7V9CYLCH",
        "colab_type": "code",
        "colab": {}
      },
      "source": [
        " actual_emo=[]  \n",
        " y_true=np.argmax(test_y, 1)  \n",
        " for i in range(0,test_y.shape[0]):  \n",
        "   emo=emotions[y_true[i]]  \n",
        "   actual_emo.append(emo)"
      ],
      "execution_count": 0,
      "outputs": []
    },
    {
      "cell_type": "code",
      "metadata": {
        "id": "5NHg-FE8s90v",
        "colab_type": "code",
        "outputId": "15ee8880-8847-4a9d-b3b1-59fe82f2256c",
        "colab": {
          "base_uri": "https://localhost:8080/",
          "height": 54
        }
      },
      "source": [
        "print(actual_emo)"
      ],
      "execution_count": 0,
      "outputs": [
        {
          "output_type": "stream",
          "text": [
            "['disgust', 'neutral', 'calm', 'calm', 'angry', 'neutral', 'happy', 'disgust', 'surprised', 'neutral', 'disgust', 'surprised', 'sad', 'fearful', 'sad', 'disgust', 'fearful', 'fearful', 'calm', 'disgust', 'disgust', 'calm', 'calm', 'sad', 'fearful', 'sad', 'surprised', 'surprised', 'surprised', 'sad', 'surprised', 'angry', 'happy', 'fearful', 'surprised', 'neutral', 'surprised', 'fearful', 'happy', 'angry', 'happy', 'neutral', 'calm', 'fearful', 'disgust', 'calm', 'calm', 'neutral', 'fearful', 'sad', 'sad', 'surprised', 'surprised', 'angry', 'neutral', 'calm', 'calm', 'surprised', 'happy', 'calm', 'surprised', 'fearful', 'surprised', 'surprised', 'fearful', 'sad', 'calm', 'disgust', 'disgust', 'sad', 'happy', 'surprised', 'calm', 'happy', 'surprised', 'calm', 'angry', 'surprised', 'sad', 'disgust', 'happy', 'happy', 'surprised', 'calm', 'happy', 'angry', 'fearful', 'calm', 'happy', 'neutral', 'neutral', 'neutral', 'sad', 'angry', 'calm', 'disgust', 'disgust', 'happy', 'happy', 'surprised', 'disgust', 'fearful', 'fearful', 'fearful', 'happy', 'surprised', 'happy', 'disgust', 'fearful', 'neutral', 'surprised', 'angry', 'surprised', 'calm', 'disgust', 'angry', 'fearful', 'disgust', 'disgust', 'fearful', 'disgust', 'calm', 'surprised', 'fearful', 'sad', 'angry', 'surprised', 'happy', 'disgust', 'fearful', 'sad', 'happy', 'sad', 'fearful', 'happy', 'sad', 'calm', 'calm', 'disgust', 'fearful', 'angry', 'angry', 'sad', 'happy', 'angry', 'happy', 'angry', 'neutral', 'surprised', 'fearful', 'fearful', 'sad', 'calm', 'fearful', 'happy', 'neutral', 'fearful', 'sad', 'surprised', 'fearful', 'sad', 'angry', 'angry', 'sad', 'happy', 'neutral', 'angry', 'calm', 'sad', 'surprised', 'calm', 'fearful', 'angry', 'disgust', 'fearful', 'calm', 'angry', 'surprised', 'sad', 'sad', 'calm', 'fearful', 'happy', 'sad', 'neutral', 'calm', 'disgust', 'angry', 'fearful', 'sad', 'surprised', 'fearful', 'sad', 'calm', 'happy', 'fearful', 'disgust', 'surprised', 'disgust', 'neutral', 'disgust', 'happy', 'surprised', 'sad', 'calm', 'fearful', 'surprised', 'sad', 'happy', 'surprised', 'happy', 'disgust', 'surprised', 'disgust', 'neutral', 'fearful', 'angry', 'angry', 'surprised', 'surprised', 'sad', 'surprised', 'disgust', 'fearful', 'happy', 'disgust', 'calm', 'sad', 'sad', 'calm', 'sad', 'surprised', 'sad', 'surprised', 'surprised', 'angry', 'angry', 'disgust', 'fearful', 'neutral', 'disgust', 'calm', 'surprised', 'neutral', 'sad', 'happy', 'neutral', 'calm', 'neutral', 'sad', 'angry', 'sad', 'angry', 'calm', 'angry', 'surprised', 'sad', 'surprised', 'calm', 'happy', 'angry', 'calm', 'neutral', 'happy', 'angry', 'neutral', 'disgust', 'surprised', 'surprised', 'neutral', 'happy', 'neutral', 'angry', 'surprised', 'angry', 'angry', 'sad', 'happy', 'angry', 'calm', 'angry', 'happy', 'sad', 'disgust', 'sad', 'fearful', 'happy', 'sad']\n"
          ],
          "name": "stdout"
        }
      ]
    },
    {
      "cell_type": "code",
      "metadata": {
        "id": "X8DFdSeGYOWr",
        "colab_type": "code",
        "outputId": "7e3de4ca-0676-4e02-8afe-4ba6bec9a1ee",
        "colab": {
          "base_uri": "https://localhost:8080/",
          "height": 1000
        }
      },
      "source": [
        "#generate the confusion matrix  \n",
        " cm =confusion_matrix(actual_emo, predicted_emo)  \n",
        " index = ['angry', 'calm', 'disgust', 'fearful', 'happy', 'neutral', 'sad', 'surprised']  \n",
        " columns = ['angry', 'calm', 'disgust', 'fearful', 'happy', 'neutral', 'sad', 'surprised']  \n",
        " cm_df = pd.DataFrame(cm,index,columns)                      \n",
        " plt.figure(figsize=(10,18))  \n",
        " sns.heatmap(cm_df, annot=True)\n",
        " plt.savefig('ConfusionMatrix')"
      ],
      "execution_count": 0,
      "outputs": [
        {
          "output_type": "display_data",
          "data": {
            "image/png": "[encoded data removed]",
            "text/plain": [
              "<Figure size 720x1296 with 2 Axes>"
            ]
          },
          "metadata": {
            "tags": [],
            "needs_background": "light"
          }
        }
      ]
    },
    {
      "cell_type": "code",
      "metadata": {
        "id": "bTaWG8qmuFt-",
        "colab_type": "code",
        "colab": {}
      },
      "source": [
        "from sklearn.metrics import accuracy_score"
      ],
      "execution_count": 0,
      "outputs": []
    },
    {
      "cell_type": "code",
      "metadata": {
        "id": "Yu_CjjGXvPdD",
        "colab_type": "code",
        "outputId": "168f153d-51af-46ba-bc01-fdc9e5bd54c5",
        "colab": {
          "base_uri": "https://localhost:8080/",
          "height": 34
        }
      },
      "source": [
        "accuracy_score(actual_emo,predicted_emo)"
      ],
      "execution_count": 0,
      "outputs": [
        {
          "output_type": "execute_result",
          "data": {
            "text/plain": [
              "0.6006944444444444"
            ]
          },
          "metadata": {
            "tags": []
          },
          "execution_count": 21
        }
      ]
    },
    {
      "cell_type": "code",
      "metadata": {
        "id": "dCC1w6ZRrGjp",
        "colab_type": "code",
        "outputId": "bd00e38f-4037-4502-b333-c97da9fb278a",
        "colab": {
          "base_uri": "https://localhost:8080/",
          "height": 69
        }
      },
      "source": [
        "!pip install h5py"
      ],
      "execution_count": 0,
      "outputs": [
        {
          "output_type": "stream",
          "text": [
            "Requirement already satisfied: h5py in /usr/local/lib/python3.6/dist-packages (2.10.0)\n",
            "Requirement already satisfied: six in /usr/local/lib/python3.6/dist-packages (from h5py) (1.12.0)\n",
            "Requirement already satisfied: numpy>=1.7 in /usr/local/lib/python3.6/dist-packages (from h5py) (1.18.4)\n"
          ],
          "name": "stdout"
        }
      ]
    },
    {
      "cell_type": "code",
      "metadata": {
        "id": "Diu_zkGHYg_M",
        "colab_type": "code",
        "colab": {}
      },
      "source": [
        "from keras.models import load_model\n",
        "model.save('/content/drive/My Drive/data/new.h5')\n",
        "# model.save('my_model.h5')"
      ],
      "execution_count": 0,
      "outputs": []
    },
    {
      "cell_type": "code",
      "metadata": {
        "id": "h5BiVx_CZv9s",
        "colab_type": "code",
        "colab": {}
      },
      "source": [
        "from keras.models import load_model\n",
        "model.save('my_model.h5')  \n"
      ],
      "execution_count": 0,
      "outputs": []
    },
    {
      "cell_type": "code",
      "metadata": {
        "id": "AlM4Vdk00wIR",
        "colab_type": "code",
        "colab": {}
      },
      "source": [
        "model.load_weights('my_model.h5')"
      ],
      "execution_count": 0,
      "outputs": []
    },
    {
      "cell_type": "code",
      "metadata": {
        "id": "JkA7VVEYut3Y",
        "colab_type": "code",
        "outputId": "f163aeef-ea9b-43d0-cb54-b691ebacae3b",
        "colab": {
          "base_uri": "https://localhost:8080/",
          "height": 33
        }
      },
      "source": [
        "print(model)"
      ],
      "execution_count": 0,
      "outputs": [
        {
          "output_type": "stream",
          "text": [
            "<keras.engine.sequential.Sequential object at 0x7f2d0eda8668>\n"
          ],
          "name": "stdout"
        }
      ]
    },
    {
      "cell_type": "code",
      "metadata": {
        "id": "6wmdMGn9uwPj",
        "colab_type": "code",
        "outputId": "f6a3ee8c-c5dd-461f-882f-a8b2ed9ce980",
        "colab": {
          "base_uri": "https://localhost:8080/",
          "height": 67
        }
      },
      "source": [
        "model.predict_proba(fe)"
      ],
      "execution_count": 0,
      "outputs": [
        {
          "output_type": "execute_result",
          "data": {
            "text/plain": [
              "array([[3.9242479e-04, 9.9882978e-01, 3.5884600e-08, 3.7919755e-05,\n",
              "        1.0885128e-15, 7.3787686e-04, 1.9115016e-06, 3.3321461e-09]],\n",
              "      dtype=float32)"
            ]
          },
          "metadata": {
            "tags": []
          },
          "execution_count": 29
        }
      ]
    },
    {
      "cell_type": "code",
      "metadata": {
        "id": "KwOpimh9u5Rg",
        "colab_type": "code",
        "outputId": "25b081d2-9132-4877-8916-92326b6d7f3c",
        "colab": {
          "base_uri": "https://localhost:8080/",
          "height": 33
        }
      },
      "source": [
        "np.argmax(p[0])"
      ],
      "execution_count": 0,
      "outputs": [
        {
          "output_type": "execute_result",
          "data": {
            "text/plain": [
              "1"
            ]
          },
          "metadata": {
            "tags": []
          },
          "execution_count": 30
        }
      ]
    },
    {
      "cell_type": "code",
      "metadata": {
        "id": "JOA0OhMAu759",
        "colab_type": "code",
        "outputId": "d3c2a9a0-b2db-4a0a-e9df-40eceb737fc4",
        "colab": {
          "base_uri": "https://localhost:8080/",
          "height": 33
        }
      },
      "source": [
        "emotions[np.argmax(p[0])]"
      ],
      "execution_count": 0,
      "outputs": [
        {
          "output_type": "execute_result",
          "data": {
            "text/plain": [
              "'calm'"
            ]
          },
          "metadata": {
            "tags": []
          },
          "execution_count": 31
        }
      ]
    },
    {
      "cell_type": "code",
      "metadata": {
        "id": "joglsxovvCy5",
        "colab_type": "code",
        "colab": {}
      },
      "source": [
        ""
      ],
      "execution_count": 0,
      "outputs": []
    }
  ]
}