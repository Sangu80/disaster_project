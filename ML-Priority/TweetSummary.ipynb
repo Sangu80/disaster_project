{
  "nbformat": 4,
  "nbformat_minor": 0,
  "metadata": {
    "colab": {
      "name": "TweetSummary.ipynb",
      "provenance": [],
      "collapsed_sections": []
    },
    "kernelspec": {
      "name": "python3",
      "display_name": "Python 3"
    },
    "accelerator": "GPU"
  },
  "cells": [
    {
      "cell_type": "code",
      "metadata": {
        "id": "TT7GbXRUgsT1",
        "colab_type": "code",
        "outputId": "c773437b-39a0-4d9d-83ca-4e4b6b905ad0",
        "colab": {
          "base_uri": "https://localhost:8080/",
          "height": 121
        }
      },
      "source": [
        "from google.colab import drive\n",
        "drive.mount('/content/gdrive')"
      ],
      "execution_count": 0,
      "outputs": [
        {
          "output_type": "stream",
          "text": [
            "Go to this URL in a browser: https://accounts.google.com/o/oauth2/auth?client_id=947318989803-6bn6qk8qdgf4n4g3pfee6491hc0brc4i.apps.googleusercontent.com&redirect_uri=urn%3aietf%3awg%3aoauth%3a2.0%3aoob&response_type=code&scope=email%20https%3a%2f%2fwww.googleapis.com%2fauth%2fdocs.test%20https%3a%2f%2fwww.googleapis.com%2fauth%2fdrive%20https%3a%2f%2fwww.googleapis.com%2fauth%2fdrive.photos.readonly%20https%3a%2f%2fwww.googleapis.com%2fauth%2fpeopleapi.readonly\n",
            "\n",
            "Enter your authorization code:\n",
            "··········\n",
            "Mounted at /content/gdrive\n"
          ],
          "name": "stdout"
        }
      ]
    },
    {
      "cell_type": "code",
      "metadata": {
        "id": "ZnUFuEaLly4Z",
        "colab_type": "code",
        "outputId": "6eac6452-c271-42e8-e306-e6ecd660a458",
        "colab": {
          "base_uri": "https://localhost:8080/",
          "height": 34
        }
      },
      "source": [
        "from firebase import firebase\n",
        "firebase=firebase.FirebaseApplication('https://fire-d1cea.firebaseio.com/')\n",
        "result=firebase.get('/Nepal',None)\n",
        "print(result)"
      ],
      "execution_count": 0,
      "outputs": [
        {
          "output_type": "stream",
          "text": [
            "10\n"
          ],
          "name": "stdout"
        }
      ]
    },
    {
      "cell_type": "code",
      "metadata": {
        "id": "n8Dspr9HmUuF",
        "colab_type": "code",
        "colab": {}
      },
      "source": [
        "from __future__ import division\n",
        "\n",
        "import numpy as np \n",
        "import pandas as pd \n",
        "\n",
        "import nltk\n",
        "from nltk.tokenize import TweetTokenizer\n",
        "from nltk import pos_tag, ne_chunk\n",
        "from nltk.tree import Tree\n",
        "from nltk.tag.stanford import StanfordNERTagger\n",
        "\n",
        "import inspect\n",
        "\n",
        "from textacy.vsm import Vectorizer\n",
        "import textacy.vsm\n",
        "\n",
        "import scipy.sparse as sp\n",
        "\n",
        "from tqdm import *\n",
        "\n",
        "import re"
      ],
      "execution_count": 0,
      "outputs": []
    },
    {
      "cell_type": "markdown",
      "metadata": {
        "id": "KGXGVJZRr67I",
        "colab_type": "text"
      },
      "source": [
        ""
      ]
    },
    {
      "cell_type": "code",
      "metadata": {
        "id": "CTPUiIyYsALm",
        "colab_type": "code",
        "outputId": "33e018da-ef57-4aa1-95b5-5063d859c5e3",
        "colab": {
          "base_uri": "https://localhost:8080/",
          "height": 790
        }
      },
      "source": [
        "!pip install textacy"
      ],
      "execution_count": 0,
      "outputs": [
        {
          "output_type": "stream",
          "text": [
            "Collecting textacy\n",
            "\u001b[?25l  Downloading https://files.pythonhosted.org/packages/3a/5e/3b8391cf6ff39350b73f8421184cf6792002b5c2c17982b7c9fbd5ff36de/textacy-0.9.1-py3-none-any.whl (203kB)\n",
            "\r\u001b[K     |█▋                              | 10kB 22.1MB/s eta 0:00:01\r\u001b[K     |███▏                            | 20kB 28.5MB/s eta 0:00:01\r\u001b[K     |████▉                           | 30kB 32.2MB/s eta 0:00:01\r\u001b[K     |██████▍                         | 40kB 34.7MB/s eta 0:00:01\r\u001b[K     |████████                        | 51kB 36.5MB/s eta 0:00:01\r\u001b[K     |█████████▋                      | 61kB 39.4MB/s eta 0:00:01\r\u001b[K     |███████████▎                    | 71kB 40.3MB/s eta 0:00:01\r\u001b[K     |████████████▉                   | 81kB 41.5MB/s eta 0:00:01\r\u001b[K     |██████████████▌                 | 92kB 43.0MB/s eta 0:00:01\r\u001b[K     |████████████████                | 102kB 44.9MB/s eta 0:00:01\r\u001b[K     |█████████████████▊              | 112kB 44.9MB/s eta 0:00:01\r\u001b[K     |███████████████████▎            | 122kB 44.9MB/s eta 0:00:01\r\u001b[K     |█████████████████████           | 133kB 44.9MB/s eta 0:00:01\r\u001b[K     |██████████████████████▌         | 143kB 44.9MB/s eta 0:00:01\r\u001b[K     |████████████████████████▏       | 153kB 44.9MB/s eta 0:00:01\r\u001b[K     |█████████████████████████▊      | 163kB 44.9MB/s eta 0:00:01\r\u001b[K     |███████████████████████████▎    | 174kB 44.9MB/s eta 0:00:01\r\u001b[K     |█████████████████████████████   | 184kB 44.9MB/s eta 0:00:01\r\u001b[K     |██████████████████████████████▌ | 194kB 44.9MB/s eta 0:00:01\r\u001b[K     |████████████████████████████████| 204kB 44.9MB/s \n",
            "\u001b[?25hRequirement already satisfied: joblib>=0.13.0 in /usr/local/lib/python3.6/dist-packages (from textacy) (0.14.1)\n",
            "Collecting jellyfish>=0.7.0\n",
            "\u001b[?25l  Downloading https://files.pythonhosted.org/packages/3f/80/bcacc7affb47be7279d7d35225e1a932416ed051b315a7f9df20acf04cbe/jellyfish-0.7.2.tar.gz (133kB)\n",
            "\u001b[K     |████████████████████████████████| 143kB 62.1MB/s \n",
            "\u001b[?25hCollecting cytoolz>=0.8.0\n",
            "\u001b[?25l  Downloading https://files.pythonhosted.org/packages/62/b1/7f16703fe4a497879b1b457adf1e472fad2d4f030477698b16d2febf38bb/cytoolz-0.10.1.tar.gz (475kB)\n",
            "\u001b[K     |████████████████████████████████| 481kB 47.3MB/s \n",
            "\u001b[?25hCollecting pyphen>=0.9.4\n",
            "\u001b[?25l  Downloading https://files.pythonhosted.org/packages/15/82/08a3629dce8d1f3d91db843bb36d4d7db6b6269d5067259613a0d5c8a9db/Pyphen-0.9.5-py2.py3-none-any.whl (3.0MB)\n",
            "\u001b[K     |████████████████████████████████| 3.0MB 61.2MB/s \n",
            "\u001b[?25hRequirement already satisfied: scipy>=0.17.0 in /usr/local/lib/python3.6/dist-packages (from textacy) (1.4.1)\n",
            "Requirement already satisfied: srsly>=0.0.5 in /usr/local/lib/python3.6/dist-packages (from textacy) (1.0.1)\n",
            "Requirement already satisfied: numpy>=1.17.0 in /usr/local/lib/python3.6/dist-packages (from textacy) (1.17.5)\n",
            "Requirement already satisfied: tqdm>=4.19.6 in /usr/local/lib/python3.6/dist-packages (from textacy) (4.28.1)\n",
            "Requirement already satisfied: cachetools>=2.0.1 in /usr/local/lib/python3.6/dist-packages (from textacy) (3.1.1)\n",
            "Requirement already satisfied: pyemd>=0.5.0 in /usr/local/lib/python3.6/dist-packages (from textacy) (0.5.1)\n",
            "Requirement already satisfied: scikit-learn>=0.19.0 in /usr/local/lib/python3.6/dist-packages (from textacy) (0.22.1)\n",
            "Requirement already satisfied: spacy>=2.0.12 in /usr/local/lib/python3.6/dist-packages (from textacy) (2.1.9)\n",
            "Requirement already satisfied: networkx>=2.0 in /usr/local/lib/python3.6/dist-packages (from textacy) (2.4)\n",
            "Requirement already satisfied: requests>=2.10.0 in /usr/local/lib/python3.6/dist-packages (from textacy) (2.21.0)\n",
            "Requirement already satisfied: toolz>=0.8.0 in /usr/local/lib/python3.6/dist-packages (from cytoolz>=0.8.0->textacy) (0.10.0)\n",
            "Requirement already satisfied: preshed<2.1.0,>=2.0.1 in /usr/local/lib/python3.6/dist-packages (from spacy>=2.0.12->textacy) (2.0.1)\n",
            "Requirement already satisfied: thinc<7.1.0,>=7.0.8 in /usr/local/lib/python3.6/dist-packages (from spacy>=2.0.12->textacy) (7.0.8)\n",
            "Requirement already satisfied: wasabi<1.1.0,>=0.2.0 in /usr/local/lib/python3.6/dist-packages (from spacy>=2.0.12->textacy) (0.6.0)\n",
            "Requirement already satisfied: blis<0.3.0,>=0.2.2 in /usr/local/lib/python3.6/dist-packages (from spacy>=2.0.12->textacy) (0.2.4)\n",
            "Requirement already satisfied: murmurhash<1.1.0,>=0.28.0 in /usr/local/lib/python3.6/dist-packages (from spacy>=2.0.12->textacy) (1.0.2)\n",
            "Requirement already satisfied: plac<1.0.0,>=0.9.6 in /usr/local/lib/python3.6/dist-packages (from spacy>=2.0.12->textacy) (0.9.6)\n",
            "Requirement already satisfied: cymem<2.1.0,>=2.0.2 in /usr/local/lib/python3.6/dist-packages (from spacy>=2.0.12->textacy) (2.0.3)\n",
            "Requirement already satisfied: decorator>=4.3.0 in /usr/local/lib/python3.6/dist-packages (from networkx>=2.0->textacy) (4.4.1)\n",
            "Requirement already satisfied: certifi>=2017.4.17 in /usr/local/lib/python3.6/dist-packages (from requests>=2.10.0->textacy) (2019.11.28)\n",
            "Requirement already satisfied: idna<2.9,>=2.5 in /usr/local/lib/python3.6/dist-packages (from requests>=2.10.0->textacy) (2.8)\n",
            "Requirement already satisfied: chardet<3.1.0,>=3.0.2 in /usr/local/lib/python3.6/dist-packages (from requests>=2.10.0->textacy) (3.0.4)\n",
            "Requirement already satisfied: urllib3<1.25,>=1.21.1 in /usr/local/lib/python3.6/dist-packages (from requests>=2.10.0->textacy) (1.24.3)\n",
            "Building wheels for collected packages: jellyfish, cytoolz\n",
            "  Building wheel for jellyfish (setup.py) ... \u001b[?25l\u001b[?25hdone\n",
            "  Created wheel for jellyfish: filename=jellyfish-0.7.2-cp36-cp36m-linux_x86_64.whl size=72981 sha256=dd872b82901e7f16b47a6abfee3b66c4062fa7df64c704f0616019dfec917298\n",
            "  Stored in directory: /root/.cache/pip/wheels/e8/fe/99/d8fa8f2ef7b82a625b0b77a84d319b0b50693659823c4effb4\n",
            "  Building wheel for cytoolz (setup.py) ... \u001b[?25l\u001b[?25hdone\n",
            "  Created wheel for cytoolz: filename=cytoolz-0.10.1-cp36-cp36m-linux_x86_64.whl size=1256681 sha256=358eaa8c8afc99dc39ee5bb95f3990ade03835b35bc7852a3ee27ef209697ee0\n",
            "  Stored in directory: /root/.cache/pip/wheels/64/2a/18/d962b614e055577e7d9a3e4813e0742f822ca9c8800cc3783a\n",
            "Successfully built jellyfish cytoolz\n",
            "Installing collected packages: jellyfish, cytoolz, pyphen, textacy\n",
            "Successfully installed cytoolz-0.10.1 jellyfish-0.7.2 pyphen-0.9.5 textacy-0.9.1\n"
          ],
          "name": "stdout"
        }
      ]
    },
    {
      "cell_type": "code",
      "metadata": {
        "id": "NVWvottmmtBl",
        "colab_type": "code",
        "colab": {}
      },
      "source": [
        "tweets=pd.read_csv('gdrive/My Drive/filled_tweets.csv')"
      ],
      "execution_count": 0,
      "outputs": []
    },
    {
      "cell_type": "code",
      "metadata": {
        "id": "xdCNAAoCnGag",
        "colab_type": "code",
        "outputId": "45d2ea48-8e7c-43b4-ecf4-36d67ffac91a",
        "colab": {
          "base_uri": "https://localhost:8080/",
          "height": 195
        }
      },
      "source": [
        "tweets.head()"
      ],
      "execution_count": 0,
      "outputs": [
        {
          "output_type": "execute_result",
          "data": {
            "text/html": [
              "<div>\n",
              "<style scoped>\n",
              "    .dataframe tbody tr th:only-of-type {\n",
              "        vertical-align: middle;\n",
              "    }\n",
              "\n",
              "    .dataframe tbody tr th {\n",
              "        vertical-align: top;\n",
              "    }\n",
              "\n",
              "    .dataframe thead th {\n",
              "        text-align: right;\n",
              "    }\n",
              "</style>\n",
              "<table border=\"1\" class=\"dataframe\">\n",
              "  <thead>\n",
              "    <tr style=\"text-align: right;\">\n",
              "      <th></th>\n",
              "      <th>Unnamed: 0</th>\n",
              "      <th>label</th>\n",
              "      <th>tweet_id</th>\n",
              "      <th>tweet_texts</th>\n",
              "    </tr>\n",
              "  </thead>\n",
              "  <tbody>\n",
              "    <tr>\n",
              "      <th>0</th>\n",
              "      <td>0</td>\n",
              "      <td>other_useful_information</td>\n",
              "      <td>'591902695562170368'</td>\n",
              "      <td>NaN</td>\n",
              "    </tr>\n",
              "    <tr>\n",
              "      <th>1</th>\n",
              "      <td>1</td>\n",
              "      <td>infrastructure_and_utilities_damage</td>\n",
              "      <td>'591902695822331904'</td>\n",
              "      <td>RT @DailySabah: #LATEST #Nepal's Kantipur TV s...</td>\n",
              "    </tr>\n",
              "    <tr>\n",
              "      <th>2</th>\n",
              "      <td>2</td>\n",
              "      <td>injured_or_dead_people</td>\n",
              "      <td>'591902695943843840'</td>\n",
              "      <td>RT @iamsrk: May Allah look after all. Here r t...</td>\n",
              "    </tr>\n",
              "    <tr>\n",
              "      <th>3</th>\n",
              "      <td>3</td>\n",
              "      <td>missing_trapped_or_found_people</td>\n",
              "      <td>'591902696371724288'</td>\n",
              "      <td>RT @RT_com: LATEST: 108 killed in 7.9-magnitud...</td>\n",
              "    </tr>\n",
              "    <tr>\n",
              "      <th>4</th>\n",
              "      <td>4</td>\n",
              "      <td>sympathy_and_emotional_support</td>\n",
              "      <td>'591902696375877632'</td>\n",
              "      <td>RT @Edourdoo: Shocking picture of the earthqua...</td>\n",
              "    </tr>\n",
              "  </tbody>\n",
              "</table>\n",
              "</div>"
            ],
            "text/plain": [
              "  Unnamed: 0  ...                                        tweet_texts\n",
              "0          0  ...                                                NaN\n",
              "1          1  ...  RT @DailySabah: #LATEST #Nepal's Kantipur TV s...\n",
              "2          2  ...  RT @iamsrk: May Allah look after all. Here r t...\n",
              "3          3  ...  RT @RT_com: LATEST: 108 killed in 7.9-magnitud...\n",
              "4          4  ...  RT @Edourdoo: Shocking picture of the earthqua...\n",
              "\n",
              "[5 rows x 4 columns]"
            ]
          },
          "metadata": {
            "tags": []
          },
          "execution_count": 24
        }
      ]
    },
    {
      "cell_type": "code",
      "metadata": {
        "id": "CJ0xnLmIpoLW",
        "colab_type": "code",
        "colab": {}
      },
      "source": [
        "tweets=tweets.dropna()"
      ],
      "execution_count": 0,
      "outputs": []
    },
    {
      "cell_type": "code",
      "metadata": {
        "id": "G_72zisdpv2F",
        "colab_type": "code",
        "outputId": "d64540f2-a5f3-46ee-fe6f-fb06a60e3383",
        "colab": {
          "base_uri": "https://localhost:8080/",
          "height": 343
        }
      },
      "source": [
        "tweets.head(result)"
      ],
      "execution_count": 0,
      "outputs": [
        {
          "output_type": "execute_result",
          "data": {
            "text/html": [
              "<div>\n",
              "<style scoped>\n",
              "    .dataframe tbody tr th:only-of-type {\n",
              "        vertical-align: middle;\n",
              "    }\n",
              "\n",
              "    .dataframe tbody tr th {\n",
              "        vertical-align: top;\n",
              "    }\n",
              "\n",
              "    .dataframe thead th {\n",
              "        text-align: right;\n",
              "    }\n",
              "</style>\n",
              "<table border=\"1\" class=\"dataframe\">\n",
              "  <thead>\n",
              "    <tr style=\"text-align: right;\">\n",
              "      <th></th>\n",
              "      <th>Unnamed: 0</th>\n",
              "      <th>label</th>\n",
              "      <th>tweet_id</th>\n",
              "      <th>tweet_texts</th>\n",
              "    </tr>\n",
              "  </thead>\n",
              "  <tbody>\n",
              "    <tr>\n",
              "      <th>1</th>\n",
              "      <td>1</td>\n",
              "      <td>infrastructure_and_utilities_damage</td>\n",
              "      <td>'591902695822331904'</td>\n",
              "      <td>RT @DailySabah: #LATEST #Nepal's Kantipur TV s...</td>\n",
              "    </tr>\n",
              "    <tr>\n",
              "      <th>2</th>\n",
              "      <td>2</td>\n",
              "      <td>injured_or_dead_people</td>\n",
              "      <td>'591902695943843840'</td>\n",
              "      <td>RT @iamsrk: May Allah look after all. Here r t...</td>\n",
              "    </tr>\n",
              "    <tr>\n",
              "      <th>3</th>\n",
              "      <td>3</td>\n",
              "      <td>missing_trapped_or_found_people</td>\n",
              "      <td>'591902696371724288'</td>\n",
              "      <td>RT @RT_com: LATEST: 108 killed in 7.9-magnitud...</td>\n",
              "    </tr>\n",
              "    <tr>\n",
              "      <th>4</th>\n",
              "      <td>4</td>\n",
              "      <td>sympathy_and_emotional_support</td>\n",
              "      <td>'591902696375877632'</td>\n",
              "      <td>RT @Edourdoo: Shocking picture of the earthqua...</td>\n",
              "    </tr>\n",
              "    <tr>\n",
              "      <th>5</th>\n",
              "      <td>5</td>\n",
              "      <td>sympathy_and_emotional_support</td>\n",
              "      <td>'591902696895950848'</td>\n",
              "      <td>Indian Air Force is ready to help the people o...</td>\n",
              "    </tr>\n",
              "    <tr>\n",
              "      <th>7</th>\n",
              "      <td>7</td>\n",
              "      <td>infrastructure_and_utilities_damage</td>\n",
              "      <td>'591902697248333825'</td>\n",
              "      <td>RT @Gen_VKSingh: Express solidarity &amp;amp; stan...</td>\n",
              "    </tr>\n",
              "    <tr>\n",
              "      <th>8</th>\n",
              "      <td>8</td>\n",
              "      <td>other_useful_information</td>\n",
              "      <td>'591902697395064832'</td>\n",
              "      <td>MEA opens 24 hour Control Room in #Delhi for q...</td>\n",
              "    </tr>\n",
              "    <tr>\n",
              "      <th>9</th>\n",
              "      <td>9</td>\n",
              "      <td>donation_needs_or_offers_or_volunteering_services</td>\n",
              "      <td>'591902697478967296'</td>\n",
              "      <td>24 hour Control Room for queries regarding the...</td>\n",
              "    </tr>\n",
              "    <tr>\n",
              "      <th>10</th>\n",
              "      <td>10</td>\n",
              "      <td>displaced_people_and_evacuations</td>\n",
              "      <td>'591902697487405056'</td>\n",
              "      <td>24 hour Control Room for queries regarding the...</td>\n",
              "    </tr>\n",
              "    <tr>\n",
              "      <th>12</th>\n",
              "      <td>12</td>\n",
              "      <td>donation_needs_or_offers_or_volunteering_services</td>\n",
              "      <td>'591902697848078336'</td>\n",
              "      <td>Nepal quake: 7.9 magnitude tremor hits near Ka...</td>\n",
              "    </tr>\n",
              "  </tbody>\n",
              "</table>\n",
              "</div>"
            ],
            "text/plain": [
              "   Unnamed: 0  ...                                        tweet_texts\n",
              "1           1  ...  RT @DailySabah: #LATEST #Nepal's Kantipur TV s...\n",
              "2           2  ...  RT @iamsrk: May Allah look after all. Here r t...\n",
              "3           3  ...  RT @RT_com: LATEST: 108 killed in 7.9-magnitud...\n",
              "4           4  ...  RT @Edourdoo: Shocking picture of the earthqua...\n",
              "5           5  ...  Indian Air Force is ready to help the people o...\n",
              "7           7  ...  RT @Gen_VKSingh: Express solidarity &amp; stan...\n",
              "8           8  ...  MEA opens 24 hour Control Room in #Delhi for q...\n",
              "9           9  ...  24 hour Control Room for queries regarding the...\n",
              "10         10  ...  24 hour Control Room for queries regarding the...\n",
              "12         12  ...  Nepal quake: 7.9 magnitude tremor hits near Ka...\n",
              "\n",
              "[10 rows x 4 columns]"
            ]
          },
          "metadata": {
            "tags": []
          },
          "execution_count": 26
        }
      ]
    },
    {
      "cell_type": "code",
      "metadata": {
        "id": "fzJPpDFbp0Vl",
        "colab_type": "code",
        "colab": {}
      },
      "source": [
        "#removing urls\n",
        "tweets.tweet_texts = tweets.tweet_texts.apply(lambda x: re.sub(u'http\\S+', u'', x))   \n",
        "\n",
        "# removing @... \n",
        "tweets.tweet_texts = tweets.tweet_texts.apply(lambda x: re.sub(u'(\\s)@\\w+', u'', x))\n",
        "\n",
        "# removing hashtags\n",
        "tweets.tweet_texts = tweets.tweet_texts.apply(lambda x: re.sub(u'#', u'', x))"
      ],
      "execution_count": 0,
      "outputs": []
    },
    {
      "cell_type": "code",
      "metadata": {
        "id": "28S-md4-p-IB",
        "colab_type": "code",
        "outputId": "9549e9db-0c3f-4899-f74d-2e708bc0eb73",
        "colab": {
          "base_uri": "https://localhost:8080/",
          "height": 118
        }
      },
      "source": [
        "tweets.tweet_texts.head()\n"
      ],
      "execution_count": 0,
      "outputs": [
        {
          "output_type": "execute_result",
          "data": {
            "text/plain": [
              "1    RT: LATEST Nepal's Kantipur TV shows at least ...\n",
              "2    RT: May Allah look after all. Here r the emerg...\n",
              "3    RT: LATEST: 108 killed in 7.9-magnitude Nepal ...\n",
              "4    RT: Shocking picture of the earthquake in Nepa...\n",
              "5    Indian Air Force is ready to help the people o...\n",
              "Name: tweet_texts, dtype: object"
            ]
          },
          "metadata": {
            "tags": []
          },
          "execution_count": 22
        }
      ]
    },
    {
      "cell_type": "code",
      "metadata": {
        "id": "XZGxaOyiqDUK",
        "colab_type": "code",
        "colab": {}
      },
      "source": [
        "tweets.tweet_texts = tweets.tweet_texts.apply(lambda x: x.replace(u'RT', u''))\n"
      ],
      "execution_count": 0,
      "outputs": []
    },
    {
      "cell_type": "code",
      "metadata": {
        "id": "T1X0D6BYqLQD",
        "colab_type": "code",
        "colab": {}
      },
      "source": [
        "tokenizer = TweetTokenizer()\n"
      ],
      "execution_count": 0,
      "outputs": []
    },
    {
      "cell_type": "code",
      "metadata": {
        "id": "7xZkUZHcqQej",
        "colab_type": "code",
        "colab": {}
      },
      "source": [
        "\n",
        "nltk_tweets = []\n",
        "\n",
        "for tweet in tweets.tweet_texts:\n",
        "    nltk_tweets.append(tokenizer.tokenize(tweet))"
      ],
      "execution_count": 0,
      "outputs": []
    },
    {
      "cell_type": "code",
      "metadata": {
        "id": "5b6y2PhsqXxz",
        "colab_type": "code",
        "outputId": "1e8ba552-2f2c-458c-cfe5-8f25810e0b75",
        "colab": {
          "base_uri": "https://localhost:8080/",
          "height": 235
        }
      },
      "source": [
        "nltk_tweets[100]\n"
      ],
      "execution_count": 0,
      "outputs": [
        {
          "output_type": "execute_result",
          "data": {
            "text/plain": [
              "[':',\n",
              " 'Over',\n",
              " '110',\n",
              " 'killed',\n",
              " 'in',\n",
              " 'earthquake',\n",
              " ':',\n",
              " 'Nepal',\n",
              " 'Home',\n",
              " 'Ministry',\n",
              " '(',\n",
              " 'PTI',\n",
              " ')']"
            ]
          },
          "metadata": {
            "tags": []
          },
          "execution_count": 26
        }
      ]
    },
    {
      "cell_type": "code",
      "metadata": {
        "id": "3KY7JNdzqZ_Z",
        "colab_type": "code",
        "outputId": "dfdabff0-fdcf-4618-e13e-3db76eba1769",
        "colab": {
          "base_uri": "https://localhost:8080/",
          "height": 84
        }
      },
      "source": [
        "nltk.download('averaged_perceptron_tagger')\n"
      ],
      "execution_count": 0,
      "outputs": [
        {
          "output_type": "stream",
          "text": [
            "[nltk_data] Downloading package averaged_perceptron_tagger to\n",
            "[nltk_data]     /root/nltk_data...\n",
            "[nltk_data]   Unzipping taggers/averaged_perceptron_tagger.zip.\n"
          ],
          "name": "stdout"
        },
        {
          "output_type": "execute_result",
          "data": {
            "text/plain": [
              "True"
            ]
          },
          "metadata": {
            "tags": []
          },
          "execution_count": 28
        }
      ]
    },
    {
      "cell_type": "code",
      "metadata": {
        "id": "Ct7BnE1xqgMG",
        "colab_type": "code",
        "outputId": "79acd717-14ef-4556-b0c1-8b0bf4227158",
        "colab": {
          "base_uri": "https://localhost:8080/",
          "height": 235
        }
      },
      "source": [
        "nltk_tweets[100]"
      ],
      "execution_count": 0,
      "outputs": [
        {
          "output_type": "execute_result",
          "data": {
            "text/plain": [
              "[':',\n",
              " 'Over',\n",
              " '110',\n",
              " 'killed',\n",
              " 'in',\n",
              " 'earthquake',\n",
              " ':',\n",
              " 'Nepal',\n",
              " 'Home',\n",
              " 'Ministry',\n",
              " '(',\n",
              " 'PTI',\n",
              " ')']"
            ]
          },
          "metadata": {
            "tags": []
          },
          "execution_count": 29
        }
      ]
    },
    {
      "cell_type": "code",
      "metadata": {
        "id": "B8N1InLBqzUR",
        "colab_type": "code",
        "outputId": "a717cce4-7d9f-4589-c713-0ecb70869557",
        "colab": {
          "base_uri": "https://localhost:8080/",
          "height": 235
        }
      },
      "source": [
        "pos_tag(nltk_tweets[100])"
      ],
      "execution_count": 0,
      "outputs": [
        {
          "output_type": "execute_result",
          "data": {
            "text/plain": [
              "[(':', ':'),\n",
              " ('Over', 'IN'),\n",
              " ('110', 'CD'),\n",
              " ('killed', 'VBN'),\n",
              " ('in', 'IN'),\n",
              " ('earthquake', 'NN'),\n",
              " (':', ':'),\n",
              " ('Nepal', 'NNP'),\n",
              " ('Home', 'NNP'),\n",
              " ('Ministry', 'NNP'),\n",
              " ('(', '('),\n",
              " ('PTI', 'NNP'),\n",
              " (')', ')')]"
            ]
          },
          "metadata": {
            "tags": []
          },
          "execution_count": 30
        }
      ]
    },
    {
      "cell_type": "code",
      "metadata": {
        "id": "TxOXD1qOq4YN",
        "colab_type": "code",
        "colab": {}
      },
      "source": [
        "nltk_pos = []\n",
        "\n",
        "for tweet in nltk_tweets:\n",
        "    nltk_pos.append(pos_tag(tweet))"
      ],
      "execution_count": 0,
      "outputs": []
    },
    {
      "cell_type": "code",
      "metadata": {
        "id": "jMRSEnK2rADF",
        "colab_type": "code",
        "colab": {}
      },
      "source": [
        "import spacy,nltk"
      ],
      "execution_count": 0,
      "outputs": []
    },
    {
      "cell_type": "code",
      "metadata": {
        "id": "6XCoMweSrFMB",
        "colab_type": "code",
        "colab": {}
      },
      "source": [
        "nlp=spacy.load(\"en_core_web_sm\")"
      ],
      "execution_count": 0,
      "outputs": []
    },
    {
      "cell_type": "code",
      "metadata": {
        "id": "-8YsLPMarKCo",
        "colab_type": "code",
        "colab": {}
      },
      "source": [
        "tweets.tweet_texts = tweets.tweet_texts.apply(lambda x: x.replace(u'RT', u''))\n"
      ],
      "execution_count": 0,
      "outputs": []
    },
    {
      "cell_type": "code",
      "metadata": {
        "id": "1-nY3HYxrf55",
        "colab_type": "code",
        "colab": {}
      },
      "source": [
        "spacy_tweets=[]\n",
        "for doc in nlp.pipe(tweets.tweet_texts, n_threads=-1):\n",
        "  spacy_tweets.append(doc)"
      ],
      "execution_count": 0,
      "outputs": []
    },
    {
      "cell_type": "code",
      "metadata": {
        "id": "lqfNUMRmsCkd",
        "colab_type": "code",
        "outputId": "89486650-47ad-45bf-8c19-658e52fb3222",
        "colab": {
          "base_uri": "https://localhost:8080/",
          "height": 1000
        }
      },
      "source": [
        "for i in range(200):\n",
        "  print(spacy_tweets[i])"
      ],
      "execution_count": 0,
      "outputs": [
        {
          "output_type": "stream",
          "text": [
            ": LATEST Nepal's Kantipur TV shows at least 21 bodies lined up on ground after 7.9 earthquake\r\n",
            " \n",
            ": May Allah look after all. Here r the emergency contact numbers for Nepal,share, help. Prayers with all in Nepal.\r\n",
            "\n",
            ": LATEST: 108 killed in 7.9-magnitude Nepal earthquake ‰ÛÒ local police  \n",
            ": Shocking picture of the earthquake in Nepal,  \n",
            "Indian Air Force is ready to help the people of Nepal SaluteToArmy\r\n",
            "\r\n",
            "earthquake  IndiaWithNepal\n",
            ": Express solidarity &amp; stand with Nepal in this hour of distress. Will be our endeavor to extend all support &amp; assistance to‰Û_\n",
            "MEA opens 24 hour Control Room in Delhi for queries regarding the Nepal Earthquake. \r\n",
            "\r\n",
            "011 2301 2113\r\n",
            "011 2301 4104\r\n",
            "011 2301 7905\n",
            "24 hour Control Room for queries regarding the Nepal Earthquake. \r\n",
            "Numbers:\r\n",
            "+91 11 2301 2113\r\n",
            "+91 11 2301 4104\r\n",
            "+91 11 2301 7905\n",
            "24 hour Control Room for queries regarding the Nepal Earthquake. \r\n",
            "Numbers:\r\n",
            "+91 11 2301 2113\r\n",
            "+91 11 2301 4104\r\n",
            "+91 11 2301 7905\n",
            "Nepal quake: 7.9 magnitude tremor hits near Kathmandu \n",
            "TV: 2 Dead, 100 Injured in Bangladesh From Nepal Quake: TV report: 2 dead, 100 injured in Bangladesh from eart... \n",
            ": MSGHelpEarthquakeVictims Shocked!!!hearing earthquake in Nepal n some parts of India. I pray to GOD to save His child‰Û_\n",
            ": Emergency contact Numbers for Nepal. Spread the word guys please. \n",
            "The most devastating news about Nepal. Praying. \n",
            ": Only positive, half a day available for rescue ops. Hope it doesn't rain. Nepal\n",
            ": More than 100 killed in powerful Nepal earthquake, say government officials and police  \n",
            ": May Allah look after all. Here r the emergency contact numbers for Nepal,share, help. Prayers with all in Nepal.\r\n",
            "\n",
            ": Pakistan offers assistance to Nepal and India in wake of the devastating earthquake \n",
            "TV: 2 Dead, 100 Injured in Bangladesh From Nepal Quake: TV report: 2 dead, 100 injured in Bangladesh from eart... \n",
            ": Thoughts with the people near the earthquake in Nepal. \n",
            "May God gives courage to the people of Nepal who are fighting from earthquake.\n",
            "Thinking of the people in Nepal, how awful _Ù÷_\n",
            ": IndiaWithNepal My thoughts with those affected in Nepal quake.Very strong tremors in Padrauna, Kushinagar too,we're just bor‰Û_\n",
            ": Globmaster Hercules to be sent to Nepal for rescue Mission earthquake\n",
            ": Google person finder link for India and Nepal earthquake   Kathmanduquake\n",
            "Nepal earthquake triggers avalanche on north Mt Qomolangma (Everest), altitude 7,000m in China's Tibet; 400 climbers no casualty\n",
            ": Images from Everest Base Camp by UTM student Azim Afif following the quake Kathmandu UTM camp is safe. \n",
            "Ah shit \n",
            ": Our thoughts are with the people of Nepal who have suffered an earthquake with a magnitude of 7.9 PrayForNepal Natural‰Û_\n",
            ": Helpline numbers to contact Indian Embassy in Nepal: 00977-9851107021; 00977-9851135141\n",
            "Strong earthquake strikes Nepal \n",
            ": May Allah look after all. Here r the emergency contact numbers for Nepal,share, help. Prayers with all in Nepal.\r\n",
            "\n",
            ": 7.9 magnitude earthquake hits Nepal  \n",
            ": Police say at least 108 people killed after the 7.9 magnitude earthquake in Nepal  \n",
            ": More than 100 people killed in powerful Nepal earthquake, say government officials and police - \n",
            ": people finder  live quake map  emergency numbers Nepal \n",
            ": Pray for Nepal where a powerful earthquake has struck. May the Almighty grant them ease to face this calamity with utmost s‰Û_\n",
            ": 5.0 earthquake, 15km NNE of Nagarkot, Nepal. Apr 25 13:32 at epicenter (26m ago, depth 10km). \n",
            "TV: 2 Dead, 100 Injured in Bangladesh From Nepal Quake: TV report: 2 dead, 100 injured in Bangladesh from eart... \n",
            ": Collapsed buildings at Lalitpur, on the outskirts of Kathmandu NepalQuake \n",
            ": Pictures from Kathmandu show damage of 7.9 magnitude earthquake; reports of injuries  \n",
            ": ‰ÛÏ@googleindia: We‰Ûªve just launched a Person Finder instance to help track missing persons for the Nepal earthquake‰ÛÓ&gt;\n",
            ": EarthquakeInNepal\r\n",
            "Helpline Numbers of Indian Embassy in Kathmandu :\r\n",
            "\r\n",
            "977 98511 07201\r\n",
            "977 98511 35141\r\n",
            "\r\n",
            "Please Help by Re-tweeting.\"\n",
            "TV: 2 Dead, 100 Injured in Bangladesh From Nepal Quake: TV report: 2 dead, 100 injured in Bangladesh from eart... \n",
            ": BREAKING At least 114 killed in Nepal earthquake: home ministry\n",
            ": Pictures from Kathmandu show damage of 7.9 magnitude earthquake  \n",
            ": BREAKING At least 114 killed in Nepal earthquake: home ministry\n",
            "BREAKING NEWS 7.9 earthquake hits Nepal, causing damage, injuries \n",
            ": Buildings collapse in Kathmandu after M7.7 earthquake hits Nepal, casualties are feared \n",
            ": More than 100 killed in powerful Nepal earthquake, say government officials and police  \n",
            ": Here are the emergency contact numbers for Nepal, share, help. Our prayers are with all in Nepal.\r\n",
            "\n",
            "7.9 magnitude earthquake hits Nepal \n",
            ": In the wake of the earthquake in Nepal, a 24 hour control room has been set up by the MEA. \n",
            "News: Nepal's Home Ministry Says at Least 71 People Killed in the Earthquake: Nepal's Home Ministry says ...  TU\n",
            ": Feel bad and sorry for over100 reported deaths due to earthquake in Nepal Praying for their souls to rest in peace. My ‰Û_\n",
            "Nepal helpline for Earthquake... \n",
            ": Latest pics sent to ANI from Kathmandu of earthquake aftermath \n",
            "Magnitude-7.9 quake hits Nepal, causing big damage, injuries: The damage includes toppled walls and collapsed ... \n",
            ": Key facts about Nepal, site of magnitude-7.9 quake: \n",
            ": Emergency contact numbers in Nepal \n",
            ": Earthquake | Helpline numbers of the Indian Embassy in Nepal: \r\n",
            "+977 9581107021 \r\n",
            "\r\n",
            "+977 9851135141\n",
            "Divastating earthquake shakes the soul of the people Nepal\n",
            "Strong earthquake rocks Nepal, damages Kathmandu. Many feared killed. Tremors felt as far away as Delhi.\r\n",
            "\n",
            "News: TV: 2 Dead, 100 Injured in Bangladesh From Nepal Quake: TV report: 2 dead, 100 injured in Banglades...  TU\n",
            ": Pictures from Kathmandu show damage of 7.9 magnitude earthquake; reports of injuries  \n",
            "Magnitude-7.9 quake hits Nepal, causing big damage, injuries: The damage includes toppled walls and collapsed ... \n",
            ": We can imagine the pain Nepal is going through right now :( Experienced same situation in 2005 Balakot\r\n",
            "earthquake \r\n",
            "Condo‰Û_\n",
            ": Awful sight. Kathmandu's Darbar Square, a UNESCO World Heritage site, in ruins after today's earthquake.  \n",
            "Spread the word \n",
            ": Thoughts and prayers with people affected by the tragic earthquake in Nepal &amp; in India.The details of death &amp; casualti‰Û_\n",
            "TV: 2 Dead, 100 Injured in Bangladesh From Nepal Quake: TV report: 2 dead, 100 injured in Bangladesh from eart... \n",
            "MEA opens 24 hour Control Room for queries regarding the Nepal Earthquake. \r\n",
            "Numbers:\r\n",
            "+91 11 2301 2113\r\n",
            "+91 11 2301 4104\r\n",
            "+91 11 2301 7905\n",
            ": ‰ÛÏ@googleindia: We‰Ûªve just launched a Person Finder instance to help track missing persons for the Nepal earthquake‰ÛÓ&gt;\n",
            ": It is also climbing season and there are many Sherpa villages near Everest, over 5000 m. Avalanches being reported. Nepal ‰Û_\n",
            ": Witness: Nepal quake was massive; Kathmandu is crumbling:  - \n",
            ": Just in --&gt; People work to free a man trapped by rubble in Kathmandu after earthquake hits Nepal \n",
            ": Nepal earthquake in maps, tweets and pictures.  \n",
            ": Pray for Nepal where a powerful earthquake has struck. May the Almighty grant them ease to face this calamity with utmost s‰Û_\n",
            ": Nepal earthquake in maps, tweets and pictures.  \n",
            ": ‰ÛÏ@googleindia: We‰Ûªve just launched a Person Finder instance to help track missing persons for the Nepal earthquake‰ÛÓ&gt;\n",
            ": MSGHelpEarthquakeVictims Shocked!!!hearing earthquake in Nepal n some parts of India. I pray to GOD to save His child‰Û_\n",
            "Prayers for the affected people across SouthAsia by the horrible earthquake!\r\n",
            "India Bangladesh Pakistan  Afganistan Bhutan Nepal\n",
            ": In the wake of the earthquake in Nepal, a 24 hour control room has been set up by the MEA. \n",
            ": Nepal earthquake first picture | India TV News  IndiaTV vÌ_a \n",
            "MEA opens 24 hour Control Room for queries regarding the Nepal Earthquake.åÊ\r\n",
            "Numbers:\r\n",
            "+91 11 2301 2113\r\n",
            "+91 11 2301 4104\r\n",
            "+91 11 2301 7905\n",
            ": More than 100 killed in powerful Nepal earthquake, say government officials and police rest and peace\n",
            ": An injured child receives treatment outside Medicare Hospital in Kathmandu (Image: AP) \n",
            ": Nepal earthquake latest:\r\n",
            "\r\n",
            "- reports of avalanches in Everest\r\n",
            "- temples flattened\r\n",
            "- unknown numbers killed &amp; injured \n",
            ": Shame of you  ...you are posting fake images of kathmandu earthquake..\r\n",
            "BeshramNDTV earthquake \r\n",
            "\n",
            ": ‰ÛÏ@googleindia: We‰Ûªve just launched a Person Finder instance to help track missing persons for the Nepal earthquake‰ÛÓ&gt;\n",
            ": BREAKING: At least 114 killed in Nepal earthquake: home ministry - Read  \n",
            ": More than 100 killed in powerful Nepal earthquake, say government officials and police  \n",
            "MEA Opens 24 hour Control Room for queries regarding the Nepal Earthquake. Numbers:\r\n",
            "+91 11 2301 2113\r\n",
            "+91 11 2301 4104\r\n",
            "+91 11 2301 7905\n",
            "Thoughts to those in Nepal. Devastating.\n",
            ": In pictures: Man is lucky to be rescued as massive earthquake hits Nepal  \n",
            ": BREAKING: Significant damage in Kathmandu after major earthquake strikes Nepal:  \n",
            "Latest video: \n",
            ": My Prayers stand by the ppl living in Nepal...\r\n",
            "I hope everyone is fine ...\n",
            ": prayers go out to all those affected by the earthquake ... _Ù÷Ó earthquake Nepal\n",
            "Strong earthquake  rocks Nepal, damages Kathmandu  - \n",
            ": Over 110 killed in earthquake: Nepal Home Ministry (PTI)\n",
            ": More than 100 killed in powerful Nepal earthquake, say government officials and police  \n",
            ": Kathmandu patan district. Old royal square devastated. \n",
            ": RSS Volunteers are leaving for Nepal..\r\n",
            "earthquake\n",
            ": Earthquake in Nepal devastating. Loss of life n property seems enormous. Govt  n people of Bharat will do everything to h‰Û_\n",
            ": Emergency contact Numbers for Nepal. Spread the word guys please. \n",
            "FoxNews: BREAKING: At least 71 people dead killed in earthquake, Nepal's Home Ministry says\n",
            ": Pray for Nepal where a powerful earthquake has struck. May the Almighty grant them ease to face this calamity with utmost s‰Û_\n",
            "Over hundred reported death due to earthquake in Nepal. God help them. \r\n",
            "\r\n",
            "May their soul rest in peace !!\r\n",
            "\r\n",
            "EarthquakeInNepal\n",
            "TV: 2 Dead, 100 Injured in Bangladesh From Nepal Quake: TV report: 2 dead, 100 injured in Bangladesh from eart... \n",
            ": earthquake in Nepal leads to heavy destruction in Agra\r\n",
            "Watch here:  \n",
            ": BREAKING: At least 71 people killed in magnitude-7.9 earthquake in Nepal\n",
            "Since there is less free and open space, people are gathering to road. earthquake nepal \n",
            ": Missionaries smell potential souls for harvesting. Reach Nepal.\r\n",
            "Mohan Bhagwat proved right.Their \"seva\" is a mission \n",
            ": Helpline numbers for friends in Nepal stuck in tremors Plz  or Re-post! \n",
            "God bless everyone in nepal...\n",
            ": my heart goes out to all those experiencing earthquake and aftershocks in Nepal. stay strong. look out for each other.\n",
            ": 15th Earthquake just hit Nepal. Intensity again around 5 \r\n",
            "Casualty mark reaching to 150. Sad. \n",
            "The soil of Kathmandu valley is an ancient lakebed that produces high-intensity vibrations during a quake \n",
            "Shocking News The Earthquake Damage the beautiful Nepal Hope Everything is well Now there _Ù÷¤\n",
            ": ‰ÛÏ@googleindia: We‰Ûªve just launched a Person Finder instance to help track missing persons for the Nepal earthquake‰ÛÓ&gt;\n",
            ": Just read abt the earthquake in nepal! Prayers with those affected! Pls help in any way u can, start by sharing this! ht‰Û_\n",
            ": India to rush a relief team to Nepal to assist in earthquake relief, reports Times Now earthquake\n",
            ": BREAKING: At least 71 people killed in magnitude-7.9 earthquake in Nepal\n",
            ": 7 story building collapsed in Sat-tale Kapan. kathmandu Nepal \n",
            ": Pray for Nepal _Ùª_Ùª_Ùª\n",
            ": PrayforKathmandu a man being rescued after a massive Earthquake in Nepal NepalEarthquake all we can do is Pray \n",
            ": Missionaries smell potential souls for harvesting. Reach Nepal.\r\n",
            "Mohan Bhagwat proved right.Their \"seva\" is a mission \n",
            ": Sad 2 see this image of extensive damage due to the earthquake in Nepal.My prayers with the victims &amp; their families \n",
            "Strong earthquake rocks Nepal, damages Kathmandu. \n",
            ": MEA opens 24 hour Control Room for queries regarding the Nepal Earthquake. \r\n",
            "Numbers:\r\n",
            "+91 11 2301 2113\r\n",
            "+91 11 2301 4104‰Û_\n",
            "BREAKINGNEWS: At least 71 people killed in magnitude-7.9 earthquake in Nepal  \n",
            ": Rescuers clear the debris at Durbar Sqaure after an earthquake in Kathmandu (Image: AP) \n",
            ": More than 100 people killed in powerful Nepal earthquake, say government officials and police - \n",
            "Big B expresses shock over Nepal quake, reminisces ‰Û÷Mahaan‰Ûª shoot. CLICK HERE--&gt;  KhufiaBollywood\n",
            ": Awful sight. Kathmandu's Darbar Square, a UNESCO World Heritage site, in ruins after today's earthquake.  \n",
            ": May Allah look after all. Here r the emergency contact numbers for Nepal,share, help. Prayers with all in Nepal.\r\n",
            "\n",
            ": MEA opens 24 hour Control Room for queries regarding the Nepal Earthquake. \r\n",
            "Numbers:\r\n",
            "+91 11 2301 2113\r\n",
            "+91 11 2301 4104\r\n",
            "+91 11‰Û_\n",
            "TV: 2 Dead, 100 Injured in Bangladesh From Nepal Quake: TV report: 2 dead, 100 injured in Bangladesh from eart... \n",
            ": In the wake of the earthquake in Nepal, a 24 hour control room has been set up by MEA.\r\n",
            "+91 11 2301 2113\r\n",
            "+91 11 2301 4104\r\n",
            "+‰Û_\n",
            ": BREAKING: At least 71 people killed in magnitude-7.9 earthquake in Nepal\n",
            ": List of doctors and hospitals in Nepal. \n",
            ": One hour before Nepal earthquake. Small temple behind me completely collapsed. Absolutely surreal. NepalQuake \n",
            ": Two major quakes rattle Nepal; historic Dharahara Tower collapses, deaths reported in India\r\n",
            " \n",
            ": Nepal police says 108 dead in quake according to \"initial estimate\" \n",
            "Strong earthquake strikes Nepal \n",
            ": Tragic news of the earthquake in Nepal. I pray the nation and the people find the strength to cope with this terrible tr‰Û_\n",
            ": Shocking news of the earthquake from Nepal.. Praying for the safety of all affected\n",
            "USnews. Key facts about Nepal, site of magnitude-7.9 quake  /news\n",
            ": Some friends in Sydney who come from Nepal can't reach their families. My prayers are with them. NepalEarthquake Nepal‰Û_\n",
            "Morning. Ahead on  powerful earthquake rocks Nepal dozens are dead.Plus why is giving out free coffee in some places.\n",
            ": Significant damage in Nepal after major 7.9 magnitude earthquake strikes:  \n",
            ": Nepal was Already Soft Target for Missionaries&amp;Ford foundation Types NOW after earthquake it will become paradise for them‰Û_\n",
            ": PM Narendra Modi speaks to Nepal President after 7.9 magnitude earthquake hits Nepal\r\n",
            " \n",
            ": 5.0 earthquake, 31km NNW of Nagarkot, Nepal. Apr 25 15:15 at epicenter (21m ago, depth 10km). \n",
            ": At least 150 people killed in Kathmandu, 1 in China, 10 in Pokhara, 2 at Mount Everest Base Camp and 11 in India frm eart‰Û_\n",
            "Thoughts and prayers go to Nepal \n",
            ": Nepal earthquake triggers Everest avalanche, climbers at risk \n",
            ": BREAKING: More than 100 killed in Nepal earthquake, says interior ministry -\r\n",
            "\n",
            ": NepalEarthquake | 2 major aftershocks measuring 6.6 &amp; 5.8 in Gorkha &amp; Rasuwa resp. within 40 mins of first earthquake (vi @‰Û_\n",
            ": Pray for Nepal where a powerful earthquake has struck. May the Almighty grant them ease to face this calamity with utmost s‰Û_\n",
            ": MEA opens 24 hour Control Room for queries regarding the Nepal Earthquake. \r\n",
            "Numbers:\r\n",
            "+91 11 2301 2113\r\n",
            "+91 11 2301 4104\r\n",
            "+91 11‰Û_\n",
            "@gaurav_verma23 okay.. Lets just pray for Nepal :)\n",
            ": Over 110 killed in earthquake: Nepal Home Ministry (PTI)\n",
            ": May Allah look after all. Here r the emergency contact numbers for Nepal,share, help. Prayers with all in Nepal.\r\n",
            "\n",
            ": ‰ÛÏ@googleindia: We‰Ûªve just launched a Person Finder instance to help track missing persons for the Nepal earthquake‰ÛÓ&gt;\n",
            ": My heart is with you Nepal.\r\n",
            "\r\n",
            "Yet another reminder that life is short and unpredictable, and we've got to live the best we can, ‰Û_\n",
            ": Bodies seen after Nepal quake topples landmark tower  \n",
            ": More than 150 people were killed in the capital, Kathmandu, following the powerful earthquake, official in Nepal. \n",
            ": Nepal quake triggers Everest avalanche, climbers at risk  \n",
            ": More than 100 people killed in powerful Nepal earthquake, say government officials and police - \n",
            ": More than 100 killed in powerful Nepal earthquake, say government officials and police  \n",
            "More than 100 killed in powerful Nepal earthquake, say government officials and police\n",
            "Massive damage reported in parts of Nepal \n",
            ": .@EricArnold8850 describes run from his tent when avalanche struck Mt. Everest after Nepal earthquake \n",
            ": More than 100 killed in powerful Nepal earthquake, say government officials and police  \n",
            ": Prayers for people in Nepal. We stand by them in this hour of need.\n",
            ": May Allah look after all. Here r the emergency contact numbers for Nepal,share, help. Prayers with all in Nepal.\r\n",
            "\n",
            ": More than 100 killed in powerful Nepal earthquake, say government officials and police  \n",
            ": More than 100 killed in powerful Nepal earthquake, say government officials and police  \n",
            "Strong earthquake rocks Nepal, damages Kathmandu \n",
            ": Earthquake | Helpline numbers of the Indian Embassy in Nepal: \r\n",
            "+977 9581107021 \r\n",
            "\r\n",
            "+977 9851135141\n",
            ": Police say at least 108 people killed after the 7.9 magnitude earthquake in Nepal  \n",
            "Hopefully everyone is safe in Thamel and the rest of Nepal. earthquake\n",
            ": Nepal earthquake: I hope all my friends are well. I love this country and its people \n",
            "My prayers go to all those affected by the 7.9 magnitude earthquake in Nepal, may God give them strength and patience to get through.\n",
            ": Extremely Heart Wrecking to learn that more than 100 People are dead in Nepal ..May their Souls rest in Peace earthquake‰Û_\n",
            "Nepal's Home Ministry Says at Least 71 People Killed in the Earthquake: Nepal's Home Ministry says at least 71... \n",
            ": Due to bulding collaps 12 People died in Eastern Part of Nepal 5 in sunsari,5 In okhaldhunga and 2 in Solu dist according ‰Û_\n",
            ": List of doctors and hospitals in Nepal. \n",
            "Terrible news from Kathmandu. Thinking of those suffering and hope my friends in the region are okay.\n",
            ": MSGHelpEarthquakeVictims Shocked!!!hearing earthquake in Nepal n some parts of India. I pray to GOD to save His child‰Û_\n",
            ": Kathmandu patan district. Old royal square devastated. \n",
            ": Earthquake in Nepal devastating. Loss of life n property seems enormous. Govt  n people of Bharat will do everything to h‰Û_\n",
            ": Nepal earthquake latest:\r\n",
            "\r\n",
            "- reports of avalanches in Everest\r\n",
            "- temples flattened\r\n",
            "- unknown numbers killed &amp; injured \n",
            ": Truly awful sight. Kathmandu's Darbar Square, a UNESCO World Heritage site, in ruins after today's earthquake. \n",
            "May Allah be with the people in Nepal and ease their difficulty... May all be well with them  Nepal\n",
            "TV: 2 Dead, 100 Injured in Bangladesh From Nepal Quake: TV report: 2 dead, 100 injured in Bangladesh from eart... \n",
            ": Buildings collapse in Nepal capital after 7.7 quake-witnesses \n",
            "Earthquake in Nepal - in pictures \n"
          ],
          "name": "stdout"
        }
      ]
    },
    {
      "cell_type": "code",
      "metadata": {
        "id": "mPBUGRZHsLgm",
        "colab_type": "code",
        "colab": {}
      },
      "source": [
        "main_words = [u'earthquake', u'killed', u'injured', u'stranded', u'wounded', u'hurt', u'helpless', u'wrecked', u'nepal']\n"
      ],
      "execution_count": 0,
      "outputs": []
    },
    {
      "cell_type": "code",
      "metadata": {
        "id": "-KeoXIIssSn5",
        "colab_type": "code",
        "outputId": "d0aa0884-aede-46e3-dd11-82590d6e8a12",
        "colab": {
          "base_uri": "https://localhost:8080/",
          "height": 34
        }
      },
      "source": [
        "useful_entities = [u'NORP', u'FACILITY', u'ORG', u'GPE', u'LOC', u'EVENT', u'DATE', u'TIME']\n",
        "content_tweets = []\n",
        "for single_tweet in tqdm(spacy_tweets):\n",
        "    single_tweet_content = []\n",
        "    for token in single_tweet: \n",
        "        if ((token.ent_type_ in useful_entities)  \n",
        "            or (token.pos_ == u'NUM') \n",
        "            or (token.lower_ in main_words)):\n",
        "            single_tweet_content.append(token)\n",
        "    content_tweets.append(single_tweet_content)"
      ],
      "execution_count": 0,
      "outputs": [
        {
          "output_type": "stream",
          "text": [
            "100%|██████████| 2337/2337 [00:00<00:00, 53448.54it/s]\n"
          ],
          "name": "stderr"
        }
      ]
    },
    {
      "cell_type": "code",
      "metadata": {
        "id": "o_rIvW8VsYgG",
        "colab_type": "code",
        "outputId": "aaf5ba69-ace1-4b0e-c401-49b65d46cbb9",
        "colab": {
          "base_uri": "https://localhost:8080/",
          "height": 34
        }
      },
      "source": [
        "len(content_tweets)"
      ],
      "execution_count": 0,
      "outputs": [
        {
          "output_type": "execute_result",
          "data": {
            "text/plain": [
              "2337"
            ]
          },
          "metadata": {
            "tags": []
          },
          "execution_count": 104
        }
      ]
    },
    {
      "cell_type": "code",
      "metadata": {
        "id": "Q0ob-Vz6sa99",
        "colab_type": "code",
        "outputId": "e169d8c3-7a24-4254-8f80-c6f78b597163",
        "colab": {
          "base_uri": "https://localhost:8080/",
          "height": 162
        }
      },
      "source": [
        "vectorizer = Vectorizer(weighting = 'tfidf')\n"
      ],
      "execution_count": 0,
      "outputs": [
        {
          "output_type": "error",
          "ename": "TypeError",
          "evalue": "ignored",
          "traceback": [
            "\u001b[0;31m---------------------------------------------------------------------------\u001b[0m",
            "\u001b[0;31mTypeError\u001b[0m                                 Traceback (most recent call last)",
            "\u001b[0;32m<ipython-input-105-70f0d2bdc0d3>\u001b[0m in \u001b[0;36m<module>\u001b[0;34m()\u001b[0m\n\u001b[0;32m----> 1\u001b[0;31m \u001b[0mvectorizer\u001b[0m \u001b[0;34m=\u001b[0m \u001b[0mVectorizer\u001b[0m\u001b[0;34m(\u001b[0m\u001b[0mweighting\u001b[0m \u001b[0;34m=\u001b[0m \u001b[0;34m'tfidf'\u001b[0m\u001b[0;34m)\u001b[0m\u001b[0;34m\u001b[0m\u001b[0;34m\u001b[0m\u001b[0m\n\u001b[0m",
            "\u001b[0;31mTypeError\u001b[0m: __init__() got an unexpected keyword argument 'weighting'"
          ]
        }
      ]
    },
    {
      "cell_type": "code",
      "metadata": {
        "id": "kVh3bIjXsiJV",
        "colab_type": "code",
        "colab": {}
      },
      "source": [
        "from textacy.vsm import Vectorizer\n",
        "import textacy.vsm\n",
        "vectorizer=Vectorizer(tf_type='linear',apply_idf=True,idf_type='smooth')"
      ],
      "execution_count": 0,
      "outputs": []
    },
    {
      "cell_type": "code",
      "metadata": {
        "id": "e2YZnNTfs1OV",
        "colab_type": "code",
        "colab": {}
      },
      "source": [
        "term_matrix = vectorizer.fit_transform([tok.lemma_ for tok in doc] for doc in spacy_tweets)\n"
      ],
      "execution_count": 0,
      "outputs": []
    },
    {
      "cell_type": "code",
      "metadata": {
        "id": "6aJSgF-Bs50h",
        "colab_type": "code",
        "colab": {}
      },
      "source": [
        "np_matrix = term_matrix.todense()\n"
      ],
      "execution_count": 0,
      "outputs": []
    },
    {
      "cell_type": "code",
      "metadata": {
        "id": "VUPwBmPas8vi",
        "colab_type": "code",
        "outputId": "66638436-170f-4d3c-c1ac-07e1d68fd626",
        "colab": {
          "base_uri": "https://localhost:8080/",
          "height": 34
        }
      },
      "source": [
        "np_matrix.shape"
      ],
      "execution_count": 0,
      "outputs": [
        {
          "output_type": "execute_result",
          "data": {
            "text/plain": [
              "(2337, 2406)"
            ]
          },
          "metadata": {
            "tags": []
          },
          "execution_count": 109
        }
      ]
    },
    {
      "cell_type": "code",
      "metadata": {
        "id": "8OqOmnJks-yZ",
        "colab_type": "code",
        "outputId": "8d8a2425-a2bd-4a00-9df4-105b10e0de20",
        "colab": {
          "base_uri": "https://localhost:8080/",
          "height": 269
        }
      },
      "source": [
        "for key in sorted(vectorizer.vocabulary_terms)[1000:1015]:\n",
        "    print(key, vectorizer.vocabulary_terms[key])\n",
        "\n",
        "\n",
        "\n",
        "\n"
      ],
      "execution_count": 0,
      "outputs": [
        {
          "output_type": "stream",
          "text": [
            "amid 1000\n",
            "amp 1001\n",
            "an 1002\n",
            "ancient 1003\n",
            "and 1004\n",
            "and‰Û 1005\n",
            "anger 1006\n",
            "another 1007\n",
            "any 1008\n",
            "apartment 1009\n",
            "app 1010\n",
            "apparently 1011\n",
            "appreciate 1012\n",
            "apr 1013\n",
            "arac€±l€±€Ù€±yla 1014\n"
          ],
          "name": "stdout"
        }
      ]
    },
    {
      "cell_type": "code",
      "metadata": {
        "id": "BOqqM8NwtE3a",
        "colab_type": "code",
        "outputId": "335d421e-1dfd-4c61-ba01-56e809391665",
        "colab": {
          "base_uri": "https://localhost:8080/",
          "height": 134
        }
      },
      "source": [
        "for token in content_tweets[500]:\n",
        "  print(token.lemma_,vectorizer.vocabulary_terms[token.lemma_],np.max(np_matrix[:,vectorizer.vocabulary_terms[token.lemma_]]))\n"
      ],
      "execution_count": 0,
      "outputs": [
        {
          "output_type": "stream",
          "text": [
            "earthquake 1284 3.197074289405387\n",
            "indian 1549 5.621556926102864\n",
            "Kathmandu 581 5.424091655992004\n",
            "98511 222 11.522637736956046\n",
            "07021 66 6.049000940929804\n",
            "98511 222 11.522637736956046\n",
            "35141\"‰û 151 7.3707567809121235\n"
          ],
          "name": "stdout"
        }
      ]
    },
    {
      "cell_type": "code",
      "metadata": {
        "id": "SETcdAo0tXSN",
        "colab_type": "code",
        "colab": {}
      },
      "source": [
        "tfidf_dict = {}\n",
        "content_vocab = []\n",
        "for tweet in content_tweets: \n",
        "    for token in tweet: \n",
        "        if token.lemma_ not in tfidf_dict: \n",
        "            content_vocab.append(token.lemma_)\n",
        "            tfidf_dict[token.lemma_] = np.max(np_matrix[:,vectorizer.vocabulary_terms[token.lemma_]])"
      ],
      "execution_count": 0,
      "outputs": []
    },
    {
      "cell_type": "code",
      "metadata": {
        "id": "meEkqaOsuCl3",
        "colab_type": "code",
        "outputId": "3806698e-346f-4bf6-877c-fceb6a24657b",
        "colab": {
          "base_uri": "https://localhost:8080/",
          "height": 101
        }
      },
      "source": [
        "for key in sorted(tfidf_dict)[500:505]:\n",
        "    print (\"WORD:\" + str(key) + \" -- tf-idf SCORE:\" +  str(tfidf_dict[key]))"
      ],
      "execution_count": 0,
      "outputs": [
        {
          "output_type": "stream",
          "text": [
            "WORD:earthquake -- tf-idf SCORE:3.197074289405387\n",
            "WORD:earthquake@al_wisal -- tf-idf SCORE:8.063903961472068\n",
            "WORD:earthquake‰ûó&gt -- tf-idf SCORE:5.019381523748645\n",
            "WORD:eight -- tf-idf SCORE:8.063903961472068\n",
            "WORD:few -- tf-idf SCORE:6.965291672803959\n"
          ],
          "name": "stdout"
        }
      ]
    },
    {
      "cell_type": "code",
      "metadata": {
        "id": "mr8SfGbkuIll",
        "colab_type": "code",
        "outputId": "deac60d4-7aba-4d7d-99c7-ac88c71a46fb",
        "colab": {
          "base_uri": "https://localhost:8080/",
          "height": 50
        }
      },
      "source": [
        "!pip install pymprog\n",
        "\n",
        "from pymprog import *\n"
      ],
      "execution_count": 0,
      "outputs": [
        {
          "output_type": "stream",
          "text": [
            "Requirement already satisfied: pymprog in /usr/local/lib/python3.6/dist-packages (1.1.2)\n",
            "Requirement already satisfied: swiglpk>=1.4.4 in /usr/local/lib/python3.6/dist-packages (from pymprog) (4.65.1)\n"
          ],
          "name": "stdout"
        }
      ]
    },
    {
      "cell_type": "code",
      "metadata": {
        "id": "GgdKWiTvuPHJ",
        "colab_type": "code",
        "outputId": "13f35d59-b303-4c07-b23e-83e50ff02b82",
        "colab": {
          "base_uri": "https://localhost:8080/",
          "height": 34
        }
      },
      "source": [
        "begin('COWTS')\n"
      ],
      "execution_count": 0,
      "outputs": [
        {
          "output_type": "execute_result",
          "data": {
            "text/plain": [
              "model('COWTS') is the default model."
            ]
          },
          "metadata": {
            "tags": []
          },
          "execution_count": 115
        }
      ]
    },
    {
      "cell_type": "code",
      "metadata": {
        "id": "yT4vKbKauh_l",
        "colab_type": "code",
        "outputId": "694d2be4-15e8-4ef7-fa30-95118fec5c20",
        "colab": {
          "base_uri": "https://localhost:8080/",
          "height": 34
        }
      },
      "source": [
        "# Defining my first variable, x \n",
        "# This defines whether or not a tweet is selected\n",
        "x = var('x', len(spacy_tweets), bool)\n",
        "\n",
        "\n",
        "x[1000]"
      ],
      "execution_count": 0,
      "outputs": [
        {
          "output_type": "execute_result",
          "data": {
            "text/plain": [
              "0 <= x[1000] <= 1 binary"
            ]
          },
          "metadata": {
            "tags": []
          },
          "execution_count": 116
        }
      ]
    },
    {
      "cell_type": "code",
      "metadata": {
        "id": "Y3IwXEBJulw5",
        "colab_type": "code",
        "colab": {}
      },
      "source": [
        "\n",
        "y = var('y', len(content_vocab), bool)"
      ],
      "execution_count": 0,
      "outputs": []
    },
    {
      "cell_type": "code",
      "metadata": {
        "id": "MkYlPFtCuoDU",
        "colab_type": "code",
        "colab": {}
      },
      "source": [
        "len(y), y[0]\n",
        "maximize(sum(x) + sum([tfidf_dict[content_vocab[j]]*y[j] for j in range(len(y))]));\n"
      ],
      "execution_count": 0,
      "outputs": []
    },
    {
      "cell_type": "code",
      "metadata": {
        "id": "WmJI62hAuvPu",
        "colab_type": "code",
        "colab": {}
      },
      "source": [
        "\n",
        "\n",
        "L = 1000\n",
        "\n",
        "# hiding the output of this line since its a very long sum \n",
        "sum([x[i]*len(spacy_tweets[i]) for i in range(len(x))]) <= L;"
      ],
      "execution_count": 0,
      "outputs": []
    },
    {
      "cell_type": "code",
      "metadata": {
        "id": "O4yl3QpHuzQ9",
        "colab_type": "code",
        "colab": {}
      },
      "source": [
        "def content_words(i):\n",
        "    '''Given a tweet index i (for x[i]), this method will return the indices of the words in the \n",
        "    content_vocab[] array\n",
        "    Note: these indices are the same as for the y variable\n",
        "    '''\n",
        "    tweet = spacy_tweets[i]\n",
        "    content_indices = []\n",
        "    \n",
        "    for token in tweet:\n",
        "        if token.lemma_ in content_vocab:\n",
        "            content_indices.append(content_vocab.index(token.lemma_))\n",
        "    return content_indices"
      ],
      "execution_count": 0,
      "outputs": []
    },
    {
      "cell_type": "code",
      "metadata": {
        "id": "mj8_2Absu3VB",
        "colab_type": "code",
        "colab": {}
      },
      "source": [
        "def tweets_with_content_words(j):\n",
        "    '''Given the index j of some content word (for content_vocab[j] or y[j])\n",
        "    this method will return the indices of all tweets which contain this content word\n",
        "    '''\n",
        "    content_word = content_vocab[j]\n",
        "    \n",
        "    index_in_term_matrix = vectorizer.vocabulary_terms[content_word]\n",
        "    \n",
        "    matrix_column = np_matrix[:, index_in_term_matrix]\n",
        "    \n",
        "    return np.nonzero(matrix_column)[0]"
      ],
      "execution_count": 0,
      "outputs": []
    },
    {
      "cell_type": "code",
      "metadata": {
        "id": "TcJUIw_bu-H5",
        "colab_type": "code",
        "colab": {}
      },
      "source": [
        "\n",
        "for j in range(len(y)):\n",
        "    sum([x[i] for i in tweets_with_content_words(j)])>= y[j]"
      ],
      "execution_count": 0,
      "outputs": []
    },
    {
      "cell_type": "code",
      "metadata": {
        "id": "vRK58ok1vAaN",
        "colab_type": "code",
        "colab": {}
      },
      "source": [
        "\n",
        "for i in range(len(x)):\n",
        "    sum(y[j] for j in content_words(i)) >= len(content_words(i))*x[i]"
      ],
      "execution_count": 0,
      "outputs": []
    },
    {
      "cell_type": "code",
      "metadata": {
        "id": "-t985MEcvar5",
        "colab_type": "code",
        "outputId": "4e861d5e-bf3a-470e-e9c3-2ee13f114230",
        "colab": {
          "base_uri": "https://localhost:8080/",
          "height": 70
        }
      },
      "source": [
        "solve()\n"
      ],
      "execution_count": 0,
      "outputs": [
        {
          "output_type": "execute_result",
          "data": {
            "text/plain": [
              "(0,\n",
              " 'The MIP problem instance has been successfully solved. (This code\\ndoes {\\\\it not} necessarily mean that the solver has found optimal\\nsolution. It only means that the solution process was successful.)')"
            ]
          },
          "metadata": {
            "tags": []
          },
          "execution_count": 124
        }
      ]
    },
    {
      "cell_type": "code",
      "metadata": {
        "id": "KU7f4k7Kvi0d",
        "colab_type": "code",
        "colab": {}
      },
      "source": [
        "result_x =  [value.primal for value in x]\n",
        "result_y = [value.primal for value in y]"
      ],
      "execution_count": 0,
      "outputs": []
    },
    {
      "cell_type": "code",
      "metadata": {
        "id": "UxaetxhVvofi",
        "colab_type": "code",
        "outputId": "3c2e8c6a-41c1-49ab-d8f1-9511accd370f",
        "colab": {
          "base_uri": "https://localhost:8080/",
          "height": 34
        }
      },
      "source": [
        "end()"
      ],
      "execution_count": 0,
      "outputs": [
        {
          "output_type": "execute_result",
          "data": {
            "text/plain": [
              "model('COWTS') is not the default model."
            ]
          },
          "metadata": {
            "tags": []
          },
          "execution_count": 126
        }
      ]
    },
    {
      "cell_type": "code",
      "metadata": {
        "id": "4i3Zu3y5vsqZ",
        "colab_type": "code",
        "outputId": "bbcb478f-1711-4a32-a2c4-49ce90cc89f4",
        "colab": {
          "base_uri": "https://localhost:8080/",
          "height": 1000
        }
      },
      "source": [
        "chosen_tweets = np.nonzero(result_x)\n",
        "chosen_words = np.nonzero(result_y)\n",
        "for i in chosen_tweets[0]:\n",
        "    print ('--------------')\n",
        "    print(i)\n",
        "    print (spacy_tweets[i])\n"
      ],
      "execution_count": 0,
      "outputs": [
        {
          "output_type": "stream",
          "text": [
            "--------------\n",
            "0\n",
            ": LATEST Nepal's Kantipur TV shows at least 21 bodies lined up on ground after 7.9 earthquake\r\n",
            " \n",
            "--------------\n",
            "68\n",
            "Spread the word \n",
            "--------------\n",
            "103\n",
            ": RSS Volunteers are leaving for Nepal..\r\n",
            "earthquake\n",
            "--------------\n",
            "188\n",
            ": Due to bulding collaps 12 People died in Eastern Part of Nepal 5 in sunsari,5 In okhaldhunga and 2 in Solu dist according ‰Û_\n",
            "--------------\n",
            "234\n",
            "Earthquake: 2015-04-25 17:30HKT M5.0 [28.0N,85.4E] in Nepal \n",
            "--------------\n",
            "341\n",
            "[AP] Key facts about Nepal, site of magnitude-7.9 quake \n",
            "--------------\n",
            "345\n",
            "Chitttt \n",
            "--------------\n",
            "388\n",
            "NepalEarthquake \r\n",
            "PM \r\n",
            "spoke with Nepal prez, PM\r\n",
            "CM's BIHAR MP WB SIKKIM\r\n",
            "UP,MP sitamarhi\r\n",
            "Bhutan emb\r\n",
            "high level meeting\r\n",
            "NDRF dispatched\r\n",
            "wow!\n",
            "--------------\n",
            "397\n",
            "nepal after shock latest magnitude 5.0\n",
            "--------------\n",
            "417\n",
            ": 556 tourists to Nepal from Maharashtra safe. Indian embassy helpline number in Nepal:- 9779851107021 / \r\n",
            "9779851135141\n",
            "--------------\n",
            "428\n",
            ": 1 child ,1teenager killed in a 7.9 Nepal earthquake \n",
            "--------------\n",
            "452\n",
            "Avalanche Sweeps Everest in Nepal; 30 Injured \n",
            "--------------\n",
            "458\n",
            "Dharahara also called Bhimsen Tower, was a nine storey (61.88m) tall tower at the center of Sundhara,[1] Kathmandu. \n",
            "--------------\n",
            "459\n",
            "EU Humaid monitoring situation in Kathmandu  in contact with EU experts in the region + partners \n",
            "--------------\n",
            "469\n",
            "114 death are confirmed by Nepali Government, just in Kathmandu Earthquake\n",
            "--------------\n",
            "477\n",
            "Raw: Powerful Earthquake Rocks Nepal  AssociatedPress Associated Press news\n",
            "--------------\n",
            "549\n",
            ": MEA control room no for Nepal earthquake +91 11 2301 2113\r\n",
            "+91 11 2301 4104\r\n",
            "+91 11 2301 7905\n",
            "--------------\n",
            "551\n",
            ": Breaking | from Kolkata to Delhi to Islamabad, 7 minutes of the earth shaking. All via Epicentre Nepal. Earthqu‰Û_\n",
            "--------------\n",
            "555\n",
            ": USGS now have it: M7.5 in Nepal \n",
            "--------------\n",
            "571\n",
            "Tremors Felt in West Bengal After 7.9 Magnitude Earthquake in Nepal \n",
            "--------------\n",
            "628\n",
            "@AP Am from Nepal not only 100 more than 300 people\n",
            "--------------\n",
            "641\n",
            "(TeambrianMundial) TV: 2 Dead, 100 Injured in Bangladesh From Nepal Quake: TV report: 2 d...  (TeambrianMundial)\n",
            "--------------\n",
            "688\n",
            "Strong earthquake strikes Nepal- At least 108 killed BBC NEWS \n",
            "--------------\n",
            "738\n",
            "Pray for Nepal _Ùª_ÙÈ\n",
            "--------------\n",
            "830\n",
            "Strong Earthquake Strikes Nepal Near Its Capital, Katmandu - New York Times  \n",
            "--------------\n",
            "855\n",
            ": A 7.8 magnitude earthquake struck Nepal, said Nepalquake \n",
            "--------------\n",
            "954\n",
            "5.00 earthquake occured 31km NNW of Nagarkot, Nepal at 09:30 UTC! earthquake Nagarkot \n",
            "--------------\n",
            "970\n",
            "Earthquake M7.5 strikes 89 km NW of Kathmandu (Nepal) 19 min ago. Please report to:  \n",
            "--------------\n",
            "981\n",
            ": M7.9  - 29km ESE of Lamjung, Nepal  20 00 29 26.  Highly informative read on seismic history of Hima‰Û_\n",
            "--------------\n",
            "1006\n",
            "At Least Two Dead After Nepal Quake \n",
            "--------------\n",
            "1038\n",
            ": Amazing story from Italian climber at Everest base camp, see 1415hrs Nepal Time post \n",
            "--------------\n",
            "1087\n",
            "7.9 magnitude earthquake rattles Nepal - Nepal Earthquake Raw Video  arac€±l€±€Ù€±yla\n",
            "--------------\n",
            "1324\n",
            ": Earthquake helpline at the Indian embassy in Kathmandu-+977 98511 07021, +977 98511 35141\n",
            "--------------\n",
            "1388\n",
            "What Happened Nepal Earthquake 4 / 25 / 2015 | 7,9 Magnitude Earthquake  arac€±l€±€Ù€±yla\n",
            "--------------\n",
            "1440\n",
            "NepalEarthquake kills score, buildings destroyed, tremors felt in NewDelhi \r\n",
            "\r\n",
            "earthquake IndiaWithNepal Modi\n",
            "--------------\n",
            "1505\n",
            ": 14 earthquakes of 4.5+ magnitude in Nepal today. \n",
            "--------------\n",
            "1516\n",
            "Sad day for Nepal NepalQuake\n",
            "--------------\n",
            "1557\n",
            "Earthquake in Nepal and Northern India 2015: Kathmandu Ambulance and Emergency Helpline numbers \n",
            "--------------\n",
            "1578\n",
            ": Second quake at M7.0 jolts ground 30km beneath Nepal at 6:45 UTC, 34 minutes after the first: CENC \n",
            "--------------\n",
            "1639\n",
            ": Red earthquake alert (Magnitude 7.5M, Depth:11.87km) in Nepal 25/04/2015 06:11 UTC, 6368097 people within 100km. \n",
            "--------------\n",
            "1661\n",
            ": Nepal quake,God Bless Nepal nepalquake \n",
            "--------------\n",
            "1671\n",
            "Praying for those in Katmandu _Ùª_ÙÈ_Ùª_ÙÈ‰Ï¬ \n",
            "--------------\n",
            "1681\n",
            ": Tourists from Gujarat stranded in Nepal or their kin can contact control room at G'nagar: 079-23251900/902/907/908/914/‰Û_\n",
            "--------------\n",
            "1682\n",
            "These Pics tells pain of Earthquake Survivors &gt;&gt;  &lt;&lt; PLZ  &amp; Share Their Pain. Kathmandu\n",
            "--------------\n",
            "1704\n",
            "Nepalearthquake: Casualties feared after 9-storey tower collapses in Kathmandu GeoAurJeenayDo \n",
            "--------------\n",
            "1720\n",
            "Asia-pacific - Buildings collapse in Nepal capital after 7.7 quake - France 24 \n",
            "--------------\n",
            "1759\n",
            "Why Nepal tremor is 10 times worse than Bhuj earthquake  \n",
            "--------------\n",
            "1763\n",
            ": Earthquake Emergency: 977-9851107021 and 977-9851135141 are Indian Embassy Numbers in Kathmandu. Earthquake Nepal \n",
            "--------------\n",
            "1784\n",
            ": 09771 4261945/ 4261790 emergency helpline numbers for the earthquake Kathmandu please \n",
            "--------------\n",
            "1845\n",
            "Nepal quake: Indian Army, Air Force put on high alert  \n",
            "--------------\n",
            "1847\n",
            ": Patan Durbar Square  after earthquake \n",
            "--------------\n",
            "1858\n",
            "NewsAlert | Over 110 killed in earthquake: Nepalese Home Ministry Nepal Kathmandu earthquake\n",
            "--------------\n",
            "1898\n",
            ": Over 150 dead in Kathmandu post 7.9 magnitude earthquake, Nepal's ministry of home affairs says: CNN RIP WeAreWithNepal\n",
            "--------------\n",
            "1917\n",
            "Years of major earthquake-s in Nepal:\r\n",
            "1255\r\n",
            "1408\r\n",
            "1681\r\n",
            "1810\r\n",
            "1833\r\n",
            "1934\r\n",
            " \n",
            "--------------\n",
            "1938\n",
            ": MSG1stSuperhit2015 _Ù_àLOTS OF THANKS TO U PAG_Ù_àFOR BLESSING D EAHQUAKE VICTIMS_Ù_àOF NEPAL AND INDIA G_Ù_à ‰Û_\n",
            "--------------\n",
            "1968\n",
            ": earthquake@al_wisal 7.9magnitude earthquake rattles Nepal 50 miles capital,Kathmandu\r\n",
            "¯_ôã¯_¯¤ôã_ô ô_¯¬¯¤ôã_ôÄôÉ¯¤ô ¯øôö h‰Û_\n",
            "--------------\n",
            "1969\n",
            ": 6 NDRF teams leave for Nepal and 5 NDRF teams leave for North Bihar. NepalEarthquake\n",
            "--------------\n",
            "1993\n",
            "Good morning pretty lady! \n",
            "--------------\n",
            "2013\n",
            "Thank you Google  \n",
            "--------------\n",
            "2025\n",
            "Buildings collapse, at least four killed as 7.9 quake hits Nepal,åÊIndia-witnesses \n",
            "--------------\n",
            "2072\n",
            "A recent post from GeoHazards International on Kathmandu Valley Earthquake Risk Management \n",
            "--------------\n",
            "2077\n",
            "Historic Dharahara tower collapses in Kathmandu after quake | Latest News &amp; Updates at Daily... \n",
            "--------------\n",
            "2110\n",
            ": Injured people receive treatment outside the Medicare Hospital Kathmandu,Nepal,April 25,NepalQuake Kathmanduquake \n",
            "--------------\n",
            "2149\n",
            "BreakingNews Major earthquake hits Nepal.  \n",
            "--------------\n",
            "2190\n",
            "Nepal Quake in Maps, Tweets and Pictures \n",
            "--------------\n",
            "2211\n",
            "Our prayers for those hurt or affected Nepal\n",
            "--------------\n",
            "2233\n",
            "17 tremors in the last few hours..\r could some one please help us  understand this?\r\n",
            "\r\n",
            "earthquake Nepal\n",
            "--------------\n",
            "2241\n",
            "WellingtonHere At least 71 killed as 7.9 magnitude earthquake hits Nepal - Fox News: Fox News...  WellingtonHere\n",
            "--------------\n",
            "2304\n",
            ": .@Su4ita For blood requirements in Kathmandu Contact Mr. Adhikari 00977-9862005225\n"
          ],
          "name": "stdout"
        }
      ]
    },
    {
      "cell_type": "code",
      "metadata": {
        "id": "neLDWhDfv--B",
        "colab_type": "code",
        "colab": {}
      },
      "source": [
        "\n",
        "cowts_tweets = []\n",
        "for i in chosen_tweets[0]:\n",
        "    cowts_tweets.append(spacy_tweets[i])\n"
      ],
      "execution_count": 0,
      "outputs": []
    },
    {
      "cell_type": "code",
      "metadata": {
        "id": "-jKPFYATwq5W",
        "colab_type": "code",
        "colab": {}
      },
      "source": [
        "cowts_unicode = [x.text for x in cowts_tweets]\n",
        "cowts_dataframe = pd.DataFrame(cowts_unicode)\n"
      ],
      "execution_count": 0,
      "outputs": []
    },
    {
      "cell_type": "code",
      "metadata": {
        "id": "I9m210TwwovZ",
        "colab_type": "code",
        "outputId": "889ed7e7-4ce3-481a-9606-a0326e6445b8",
        "colab": {
          "base_uri": "https://localhost:8080/",
          "height": 538
        }
      },
      "source": [
        "for tweet in cowts_tweets[:10]:\n",
        "    print ('--------')\n",
        "    print (tweet)\n"
      ],
      "execution_count": 0,
      "outputs": [
        {
          "output_type": "stream",
          "text": [
            "--------\n",
            ": LATEST Nepal's Kantipur TV shows at least 21 bodies lined up on ground after 7.9 earthquake\r\n",
            " \n",
            "--------\n",
            "Spread the word \n",
            "--------\n",
            ": RSS Volunteers are leaving for Nepal..\r\n",
            "earthquake\n",
            "--------\n",
            ": Due to bulding collaps 12 People died in Eastern Part of Nepal 5 in sunsari,5 In okhaldhunga and 2 in Solu dist according ‰Û_\n",
            "--------\n",
            "Earthquake: 2015-04-25 17:30HKT M5.0 [28.0N,85.4E] in Nepal \n",
            "--------\n",
            "[AP] Key facts about Nepal, site of magnitude-7.9 quake \n",
            "--------\n",
            "Chitttt \n",
            "--------\n",
            "NepalEarthquake \r\n",
            "PM \r\n",
            "spoke with Nepal prez, PM\r\n",
            "CM's BIHAR MP WB SIKKIM\r\n",
            "UP,MP sitamarhi\r\n",
            "Bhutan emb\r\n",
            "high level meeting\r\n",
            "NDRF dispatched\r\n",
            "wow!\n",
            "--------\n",
            "nepal after shock latest magnitude 5.0\n",
            "--------\n",
            ": 556 tourists to Nepal from Maharashtra safe. Indian embassy helpline number in Nepal:- 9779851107021 / \r\n",
            "9779851135141\n"
          ],
          "name": "stdout"
        }
      ]
    },
    {
      "cell_type": "code",
      "metadata": {
        "id": "guvYm9x1w6Mi",
        "colab_type": "code",
        "outputId": "5fee9a1b-90ba-4017-9f6d-ff7bdf29a7be",
        "colab": {
          "base_uri": "https://localhost:8080/",
          "height": 1000
        }
      },
      "source": [
        "cowts_dataframe.head(50)"
      ],
      "execution_count": 0,
      "outputs": [
        {
          "output_type": "execute_result",
          "data": {
            "text/html": [
              "<div>\n",
              "<style scoped>\n",
              "    .dataframe tbody tr th:only-of-type {\n",
              "        vertical-align: middle;\n",
              "    }\n",
              "\n",
              "    .dataframe tbody tr th {\n",
              "        vertical-align: top;\n",
              "    }\n",
              "\n",
              "    .dataframe thead th {\n",
              "        text-align: right;\n",
              "    }\n",
              "</style>\n",
              "<table border=\"1\" class=\"dataframe\">\n",
              "  <thead>\n",
              "    <tr style=\"text-align: right;\">\n",
              "      <th></th>\n",
              "      <th>0</th>\n",
              "    </tr>\n",
              "  </thead>\n",
              "  <tbody>\n",
              "    <tr>\n",
              "      <th>0</th>\n",
              "      <td>: LATEST Nepal's Kantipur TV shows at least 21...</td>\n",
              "    </tr>\n",
              "    <tr>\n",
              "      <th>1</th>\n",
              "      <td>Spread the word</td>\n",
              "    </tr>\n",
              "    <tr>\n",
              "      <th>2</th>\n",
              "      <td>: RSS Volunteers are leaving for Nepal..\\r\\nea...</td>\n",
              "    </tr>\n",
              "    <tr>\n",
              "      <th>3</th>\n",
              "      <td>: Due to bulding collaps 12 People died in Eas...</td>\n",
              "    </tr>\n",
              "    <tr>\n",
              "      <th>4</th>\n",
              "      <td>Earthquake: 2015-04-25 17:30HKT M5.0 [28.0N,85...</td>\n",
              "    </tr>\n",
              "    <tr>\n",
              "      <th>5</th>\n",
              "      <td>[AP] Key facts about Nepal, site of magnitude-...</td>\n",
              "    </tr>\n",
              "    <tr>\n",
              "      <th>6</th>\n",
              "      <td>Chitttt</td>\n",
              "    </tr>\n",
              "    <tr>\n",
              "      <th>7</th>\n",
              "      <td>NepalEarthquake \\r\\nPM \\r\\nspoke with Nepal pr...</td>\n",
              "    </tr>\n",
              "    <tr>\n",
              "      <th>8</th>\n",
              "      <td>nepal after shock latest magnitude 5.0</td>\n",
              "    </tr>\n",
              "    <tr>\n",
              "      <th>9</th>\n",
              "      <td>: 556 tourists to Nepal from Maharashtra safe....</td>\n",
              "    </tr>\n",
              "    <tr>\n",
              "      <th>10</th>\n",
              "      <td>: 1 child ,1teenager killed in a 7.9 Nepal ear...</td>\n",
              "    </tr>\n",
              "    <tr>\n",
              "      <th>11</th>\n",
              "      <td>Avalanche Sweeps Everest in Nepal; 30 Injured</td>\n",
              "    </tr>\n",
              "    <tr>\n",
              "      <th>12</th>\n",
              "      <td>Dharahara also called Bhimsen Tower, was a nin...</td>\n",
              "    </tr>\n",
              "    <tr>\n",
              "      <th>13</th>\n",
              "      <td>EU Humaid monitoring situation in Kathmandu  i...</td>\n",
              "    </tr>\n",
              "    <tr>\n",
              "      <th>14</th>\n",
              "      <td>114 death are confirmed by Nepali Government, ...</td>\n",
              "    </tr>\n",
              "    <tr>\n",
              "      <th>15</th>\n",
              "      <td>Raw: Powerful Earthquake Rocks Nepal  Associat...</td>\n",
              "    </tr>\n",
              "    <tr>\n",
              "      <th>16</th>\n",
              "      <td>: MEA control room no for Nepal earthquake +91...</td>\n",
              "    </tr>\n",
              "    <tr>\n",
              "      <th>17</th>\n",
              "      <td>: Breaking | from Kolkata to Delhi to Islamaba...</td>\n",
              "    </tr>\n",
              "    <tr>\n",
              "      <th>18</th>\n",
              "      <td>: USGS now have it: M7.5 in Nepal</td>\n",
              "    </tr>\n",
              "    <tr>\n",
              "      <th>19</th>\n",
              "      <td>Tremors Felt in West Bengal After 7.9 Magnitud...</td>\n",
              "    </tr>\n",
              "    <tr>\n",
              "      <th>20</th>\n",
              "      <td>@AP Am from Nepal not only 100 more than 300 p...</td>\n",
              "    </tr>\n",
              "    <tr>\n",
              "      <th>21</th>\n",
              "      <td>(TeambrianMundial) TV: 2 Dead, 100 Injured in ...</td>\n",
              "    </tr>\n",
              "    <tr>\n",
              "      <th>22</th>\n",
              "      <td>Strong earthquake strikes Nepal- At least 108 ...</td>\n",
              "    </tr>\n",
              "    <tr>\n",
              "      <th>23</th>\n",
              "      <td>Pray for Nepal _Ùª_ÙÈ</td>\n",
              "    </tr>\n",
              "    <tr>\n",
              "      <th>24</th>\n",
              "      <td>Strong Earthquake Strikes Nepal Near Its Capit...</td>\n",
              "    </tr>\n",
              "    <tr>\n",
              "      <th>25</th>\n",
              "      <td>: A 7.8 magnitude earthquake struck Nepal, sai...</td>\n",
              "    </tr>\n",
              "    <tr>\n",
              "      <th>26</th>\n",
              "      <td>5.00 earthquake occured 31km NNW of Nagarkot, ...</td>\n",
              "    </tr>\n",
              "    <tr>\n",
              "      <th>27</th>\n",
              "      <td>Earthquake M7.5 strikes 89 km NW of Kathmandu ...</td>\n",
              "    </tr>\n",
              "    <tr>\n",
              "      <th>28</th>\n",
              "      <td>: M7.9  - 29km ESE of Lamjung, Nepal  20 00 29...</td>\n",
              "    </tr>\n",
              "    <tr>\n",
              "      <th>29</th>\n",
              "      <td>At Least Two Dead After Nepal Quake</td>\n",
              "    </tr>\n",
              "    <tr>\n",
              "      <th>30</th>\n",
              "      <td>: Amazing story from Italian climber at Everes...</td>\n",
              "    </tr>\n",
              "    <tr>\n",
              "      <th>31</th>\n",
              "      <td>7.9 magnitude earthquake rattles Nepal - Nepal...</td>\n",
              "    </tr>\n",
              "    <tr>\n",
              "      <th>32</th>\n",
              "      <td>: Earthquake helpline at the Indian embassy in...</td>\n",
              "    </tr>\n",
              "    <tr>\n",
              "      <th>33</th>\n",
              "      <td>What Happened Nepal Earthquake 4 / 25 / 2015 |...</td>\n",
              "    </tr>\n",
              "    <tr>\n",
              "      <th>34</th>\n",
              "      <td>NepalEarthquake kills score, buildings destroy...</td>\n",
              "    </tr>\n",
              "    <tr>\n",
              "      <th>35</th>\n",
              "      <td>: 14 earthquakes of 4.5+ magnitude in Nepal to...</td>\n",
              "    </tr>\n",
              "    <tr>\n",
              "      <th>36</th>\n",
              "      <td>Sad day for Nepal NepalQuake</td>\n",
              "    </tr>\n",
              "    <tr>\n",
              "      <th>37</th>\n",
              "      <td>Earthquake in Nepal and Northern India 2015: K...</td>\n",
              "    </tr>\n",
              "    <tr>\n",
              "      <th>38</th>\n",
              "      <td>: Second quake at M7.0 jolts ground 30km benea...</td>\n",
              "    </tr>\n",
              "    <tr>\n",
              "      <th>39</th>\n",
              "      <td>: Red earthquake alert (Magnitude 7.5M, Depth:...</td>\n",
              "    </tr>\n",
              "    <tr>\n",
              "      <th>40</th>\n",
              "      <td>: Nepal quake,God Bless Nepal nepalquake</td>\n",
              "    </tr>\n",
              "    <tr>\n",
              "      <th>41</th>\n",
              "      <td>Praying for those in Katmandu _Ùª_ÙÈ_Ùª_ÙÈ...</td>\n",
              "    </tr>\n",
              "    <tr>\n",
              "      <th>42</th>\n",
              "      <td>: Tourists from Gujarat stranded in Nepal or t...</td>\n",
              "    </tr>\n",
              "    <tr>\n",
              "      <th>43</th>\n",
              "      <td>These Pics tells pain of Earthquake Survivors ...</td>\n",
              "    </tr>\n",
              "    <tr>\n",
              "      <th>44</th>\n",
              "      <td>Nepalearthquake: Casualties feared after 9-sto...</td>\n",
              "    </tr>\n",
              "    <tr>\n",
              "      <th>45</th>\n",
              "      <td>Asia-pacific - Buildings collapse in Nepal cap...</td>\n",
              "    </tr>\n",
              "    <tr>\n",
              "      <th>46</th>\n",
              "      <td>Why Nepal tremor is 10 times worse than Bhuj e...</td>\n",
              "    </tr>\n",
              "    <tr>\n",
              "      <th>47</th>\n",
              "      <td>: Earthquake Emergency: 977-9851107021 and 977...</td>\n",
              "    </tr>\n",
              "    <tr>\n",
              "      <th>48</th>\n",
              "      <td>: 09771 4261945/ 4261790 emergency helpline nu...</td>\n",
              "    </tr>\n",
              "    <tr>\n",
              "      <th>49</th>\n",
              "      <td>Nepal quake: Indian Army, Air Force put on hig...</td>\n",
              "    </tr>\n",
              "  </tbody>\n",
              "</table>\n",
              "</div>"
            ],
            "text/plain": [
              "                                                    0\n",
              "0   : LATEST Nepal's Kantipur TV shows at least 21...\n",
              "1                                    Spread the word \n",
              "2   : RSS Volunteers are leaving for Nepal..\\r\\nea...\n",
              "3   : Due to bulding collaps 12 People died in Eas...\n",
              "4   Earthquake: 2015-04-25 17:30HKT M5.0 [28.0N,85...\n",
              "5   [AP] Key facts about Nepal, site of magnitude-...\n",
              "6                                            Chitttt \n",
              "7   NepalEarthquake \\r\\nPM \\r\\nspoke with Nepal pr...\n",
              "8              nepal after shock latest magnitude 5.0\n",
              "9   : 556 tourists to Nepal from Maharashtra safe....\n",
              "10  : 1 child ,1teenager killed in a 7.9 Nepal ear...\n",
              "11     Avalanche Sweeps Everest in Nepal; 30 Injured \n",
              "12  Dharahara also called Bhimsen Tower, was a nin...\n",
              "13  EU Humaid monitoring situation in Kathmandu  i...\n",
              "14  114 death are confirmed by Nepali Government, ...\n",
              "15  Raw: Powerful Earthquake Rocks Nepal  Associat...\n",
              "16  : MEA control room no for Nepal earthquake +91...\n",
              "17  : Breaking | from Kolkata to Delhi to Islamaba...\n",
              "18                 : USGS now have it: M7.5 in Nepal \n",
              "19  Tremors Felt in West Bengal After 7.9 Magnitud...\n",
              "20  @AP Am from Nepal not only 100 more than 300 p...\n",
              "21  (TeambrianMundial) TV: 2 Dead, 100 Injured in ...\n",
              "22  Strong earthquake strikes Nepal- At least 108 ...\n",
              "23                            Pray for Nepal _Ùª_ÙÈ\n",
              "24  Strong Earthquake Strikes Nepal Near Its Capit...\n",
              "25  : A 7.8 magnitude earthquake struck Nepal, sai...\n",
              "26  5.00 earthquake occured 31km NNW of Nagarkot, ...\n",
              "27  Earthquake M7.5 strikes 89 km NW of Kathmandu ...\n",
              "28  : M7.9  - 29km ESE of Lamjung, Nepal  20 00 29...\n",
              "29               At Least Two Dead After Nepal Quake \n",
              "30  : Amazing story from Italian climber at Everes...\n",
              "31  7.9 magnitude earthquake rattles Nepal - Nepal...\n",
              "32  : Earthquake helpline at the Indian embassy in...\n",
              "33  What Happened Nepal Earthquake 4 / 25 / 2015 |...\n",
              "34  NepalEarthquake kills score, buildings destroy...\n",
              "35  : 14 earthquakes of 4.5+ magnitude in Nepal to...\n",
              "36                       Sad day for Nepal NepalQuake\n",
              "37  Earthquake in Nepal and Northern India 2015: K...\n",
              "38  : Second quake at M7.0 jolts ground 30km benea...\n",
              "39  : Red earthquake alert (Magnitude 7.5M, Depth:...\n",
              "40          : Nepal quake,God Bless Nepal nepalquake \n",
              "41  Praying for those in Katmandu _Ùª_ÙÈ_Ùª_ÙÈ...\n",
              "42  : Tourists from Gujarat stranded in Nepal or t...\n",
              "43  These Pics tells pain of Earthquake Survivors ...\n",
              "44  Nepalearthquake: Casualties feared after 9-sto...\n",
              "45  Asia-pacific - Buildings collapse in Nepal cap...\n",
              "46  Why Nepal tremor is 10 times worse than Bhuj e...\n",
              "47  : Earthquake Emergency: 977-9851107021 and 977...\n",
              "48  : 09771 4261945/ 4261790 emergency helpline nu...\n",
              "49  Nepal quake: Indian Army, Air Force put on hig..."
            ]
          },
          "metadata": {
            "tags": []
          },
          "execution_count": 131
        }
      ]
    },
    {
      "cell_type": "code",
      "metadata": {
        "id": "twTaoVXIw-Hm",
        "colab_type": "code",
        "colab": {}
      },
      "source": [
        ""
      ],
      "execution_count": 0,
      "outputs": []
    },
    {
      "cell_type": "code",
      "metadata": {
        "id": "-_aYzwPUJ3GV",
        "colab_type": "code",
        "colab": {}
      },
      "source": [
        ""
      ],
      "execution_count": 0,
      "outputs": []
    },
    {
      "cell_type": "code",
      "metadata": {
        "id": "xCDSZnRUJ9D-",
        "colab_type": "code",
        "colab": {}
      },
      "source": [
        ""
      ],
      "execution_count": 0,
      "outputs": []
    },
    {
      "cell_type": "code",
      "metadata": {
        "id": "rbxmWqhcJ_uz",
        "colab_type": "code",
        "colab": {}
      },
      "source": [
        ""
      ],
      "execution_count": 0,
      "outputs": []
    }
  ]
}